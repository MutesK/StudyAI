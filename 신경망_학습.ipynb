{
  "nbformat": 4,
  "nbformat_minor": 0,
  "metadata": {
    "colab": {
      "name": "신경망 학습",
      "provenance": [],
      "collapsed_sections": []
    },
    "kernelspec": {
      "name": "python3",
      "display_name": "Python 3"
    },
    "widgets": {
      "application/vnd.jupyter.widget-state+json": {
        "ae0a257487ff4bad967388ee1436b7e5": {
          "model_module": "@jupyter-widgets/controls",
          "model_name": "HBoxModel",
          "state": {
            "_view_name": "HBoxView",
            "_dom_classes": [],
            "_model_name": "HBoxModel",
            "_view_module": "@jupyter-widgets/controls",
            "_model_module_version": "1.5.0",
            "_view_count": null,
            "_view_module_version": "1.5.0",
            "box_style": "",
            "layout": "IPY_MODEL_4c8cf105ceea482db6f5583372bf5272",
            "_model_module": "@jupyter-widgets/controls",
            "children": [
              "IPY_MODEL_d341776b2e394810847b3e589c25d135",
              "IPY_MODEL_d00917ab57874cf69a46a53359857eed"
            ]
          }
        },
        "4c8cf105ceea482db6f5583372bf5272": {
          "model_module": "@jupyter-widgets/base",
          "model_name": "LayoutModel",
          "state": {
            "_view_name": "LayoutView",
            "grid_template_rows": null,
            "right": null,
            "justify_content": null,
            "_view_module": "@jupyter-widgets/base",
            "overflow": null,
            "_model_module_version": "1.2.0",
            "_view_count": null,
            "flex_flow": null,
            "width": null,
            "min_width": null,
            "border": null,
            "align_items": null,
            "bottom": null,
            "_model_module": "@jupyter-widgets/base",
            "top": null,
            "grid_column": null,
            "overflow_y": null,
            "overflow_x": null,
            "grid_auto_flow": null,
            "grid_area": null,
            "grid_template_columns": null,
            "flex": null,
            "_model_name": "LayoutModel",
            "justify_items": null,
            "grid_row": null,
            "max_height": null,
            "align_content": null,
            "visibility": null,
            "align_self": null,
            "height": null,
            "min_height": null,
            "padding": null,
            "grid_auto_rows": null,
            "grid_gap": null,
            "max_width": null,
            "order": null,
            "_view_module_version": "1.2.0",
            "grid_template_areas": null,
            "object_position": null,
            "object_fit": null,
            "grid_auto_columns": null,
            "margin": null,
            "display": null,
            "left": null
          }
        },
        "d341776b2e394810847b3e589c25d135": {
          "model_module": "@jupyter-widgets/controls",
          "model_name": "FloatProgressModel",
          "state": {
            "_view_name": "ProgressView",
            "style": "IPY_MODEL_08c6d81299ad4d8696571752cb378bfe",
            "_dom_classes": [],
            "description": "100%",
            "_model_name": "FloatProgressModel",
            "bar_style": "success",
            "max": 2,
            "_view_module": "@jupyter-widgets/controls",
            "_model_module_version": "1.5.0",
            "value": 2,
            "_view_count": null,
            "_view_module_version": "1.5.0",
            "orientation": "horizontal",
            "min": 0,
            "description_tooltip": null,
            "_model_module": "@jupyter-widgets/controls",
            "layout": "IPY_MODEL_0f696bd021654d81bc714b200dabf1b2"
          }
        },
        "d00917ab57874cf69a46a53359857eed": {
          "model_module": "@jupyter-widgets/controls",
          "model_name": "HTMLModel",
          "state": {
            "_view_name": "HTMLView",
            "style": "IPY_MODEL_b05766d9f18340c6bb903cd497672715",
            "_dom_classes": [],
            "description": "",
            "_model_name": "HTMLModel",
            "placeholder": "​",
            "_view_module": "@jupyter-widgets/controls",
            "_model_module_version": "1.5.0",
            "value": " 2/2 [02:56&lt;00:00, 88.06s/it]",
            "_view_count": null,
            "_view_module_version": "1.5.0",
            "description_tooltip": null,
            "_model_module": "@jupyter-widgets/controls",
            "layout": "IPY_MODEL_3a959a9408ca4783bddf7abbc5fcbfb0"
          }
        },
        "08c6d81299ad4d8696571752cb378bfe": {
          "model_module": "@jupyter-widgets/controls",
          "model_name": "ProgressStyleModel",
          "state": {
            "_view_name": "StyleView",
            "_model_name": "ProgressStyleModel",
            "description_width": "initial",
            "_view_module": "@jupyter-widgets/base",
            "_model_module_version": "1.5.0",
            "_view_count": null,
            "_view_module_version": "1.2.0",
            "bar_color": null,
            "_model_module": "@jupyter-widgets/controls"
          }
        },
        "0f696bd021654d81bc714b200dabf1b2": {
          "model_module": "@jupyter-widgets/base",
          "model_name": "LayoutModel",
          "state": {
            "_view_name": "LayoutView",
            "grid_template_rows": null,
            "right": null,
            "justify_content": null,
            "_view_module": "@jupyter-widgets/base",
            "overflow": null,
            "_model_module_version": "1.2.0",
            "_view_count": null,
            "flex_flow": null,
            "width": null,
            "min_width": null,
            "border": null,
            "align_items": null,
            "bottom": null,
            "_model_module": "@jupyter-widgets/base",
            "top": null,
            "grid_column": null,
            "overflow_y": null,
            "overflow_x": null,
            "grid_auto_flow": null,
            "grid_area": null,
            "grid_template_columns": null,
            "flex": null,
            "_model_name": "LayoutModel",
            "justify_items": null,
            "grid_row": null,
            "max_height": null,
            "align_content": null,
            "visibility": null,
            "align_self": null,
            "height": null,
            "min_height": null,
            "padding": null,
            "grid_auto_rows": null,
            "grid_gap": null,
            "max_width": null,
            "order": null,
            "_view_module_version": "1.2.0",
            "grid_template_areas": null,
            "object_position": null,
            "object_fit": null,
            "grid_auto_columns": null,
            "margin": null,
            "display": null,
            "left": null
          }
        },
        "b05766d9f18340c6bb903cd497672715": {
          "model_module": "@jupyter-widgets/controls",
          "model_name": "DescriptionStyleModel",
          "state": {
            "_view_name": "StyleView",
            "_model_name": "DescriptionStyleModel",
            "description_width": "",
            "_view_module": "@jupyter-widgets/base",
            "_model_module_version": "1.5.0",
            "_view_count": null,
            "_view_module_version": "1.2.0",
            "_model_module": "@jupyter-widgets/controls"
          }
        },
        "3a959a9408ca4783bddf7abbc5fcbfb0": {
          "model_module": "@jupyter-widgets/base",
          "model_name": "LayoutModel",
          "state": {
            "_view_name": "LayoutView",
            "grid_template_rows": null,
            "right": null,
            "justify_content": null,
            "_view_module": "@jupyter-widgets/base",
            "overflow": null,
            "_model_module_version": "1.2.0",
            "_view_count": null,
            "flex_flow": null,
            "width": null,
            "min_width": null,
            "border": null,
            "align_items": null,
            "bottom": null,
            "_model_module": "@jupyter-widgets/base",
            "top": null,
            "grid_column": null,
            "overflow_y": null,
            "overflow_x": null,
            "grid_auto_flow": null,
            "grid_area": null,
            "grid_template_columns": null,
            "flex": null,
            "_model_name": "LayoutModel",
            "justify_items": null,
            "grid_row": null,
            "max_height": null,
            "align_content": null,
            "visibility": null,
            "align_self": null,
            "height": null,
            "min_height": null,
            "padding": null,
            "grid_auto_rows": null,
            "grid_gap": null,
            "max_width": null,
            "order": null,
            "_view_module_version": "1.2.0",
            "grid_template_areas": null,
            "object_position": null,
            "object_fit": null,
            "grid_auto_columns": null,
            "margin": null,
            "display": null,
            "left": null
          }
        }
      }
    }
  },
  "cells": [
    {
      "cell_type": "markdown",
      "metadata": {
        "id": "nyjyu4FzUAVw"
      },
      "source": [
        "# 신경망 학습"
      ]
    },
    {
      "cell_type": "markdown",
      "metadata": {
        "id": "VQvNez4qydhL"
      },
      "source": [
        "## 단순한 신경망 구현 : Logic Gate"
      ]
    },
    {
      "cell_type": "markdown",
      "metadata": {
        "id": "-7te43hqyiiJ"
      },
      "source": [
        "### 필요한 모듈 import"
      ]
    },
    {
      "cell_type": "code",
      "metadata": {
        "id": "OTgbr2c0aQSU"
      },
      "source": [
        "import numpy as np\n",
        "import matplotlib.pyplot as plt"
      ],
      "execution_count": null,
      "outputs": []
    },
    {
      "cell_type": "markdown",
      "metadata": {
        "id": "orUoPmDcymhj"
      },
      "source": [
        "### 하이퍼 파라미터(Hyper Parameter)"
      ]
    },
    {
      "cell_type": "code",
      "metadata": {
        "id": "bOAmMxo0ymDF"
      },
      "source": [
        "epochs = 1000\n",
        "learning_rate = 0.1"
      ],
      "execution_count": null,
      "outputs": []
    },
    {
      "cell_type": "markdown",
      "metadata": {
        "id": "BjmLWgFVysnq"
      },
      "source": [
        "### 유틸 함수들(Util Functions)"
      ]
    },
    {
      "cell_type": "code",
      "metadata": {
        "id": "Y4OMFGrjyq1c"
      },
      "source": [
        "def sigmoid(x) :\n",
        "  return 1 / (1 + np.exp(-x))\n",
        "\n",
        "def MeanSquareError(pred_y, true_y) :\n",
        "    return np.mean(np.sum(np.square(true_y - pred_y)))\n",
        "\n",
        "def CrossEntropyError(pred_y, true_y) :  # 타겟이 단순 One-Hot 인코딩 방식 일 경우\n",
        "    if true_y.ndim ==  1 :\n",
        "      true_y = true_y.reshape(1, -1)\n",
        "      pred_y = pred_y.reshape(1, -1)\n",
        "\n",
        "    return -np.sum(true_y * np.log(pred_y + 1e-7))\n",
        "\n",
        "def CrossEntropyErrorForBatch(pred_y, true_y) :  # 타겟이 단순 레이블 형태일 경우\n",
        "    if true_y.ndim ==  1 :\n",
        "      true_y = true_y.reshape(1, -1)\n",
        "      pred_y = pred_y.reshape(1, -1)\n",
        "\n",
        "    delta = 1e-7\n",
        "    batch_size = pred_y.shape[0]\n",
        "    return -np.sum(true_y * np.log(pred_y + delta)) / batch_size\n",
        "\n",
        "def CrossEntropyForBinary(pred_y, true_y) :\n",
        "  return 0.5 * np.sum( (-true_y * np.log(pred_y) - (1 - true_y) * np.log(1 - pred_y)) )\n",
        "\n",
        "def SoftMax(a) :\n",
        "  exp_a = np.exp(a)\n",
        "  sum_exp_a = np.sum(exp_a)\n",
        "  y = exp_a / sum_exp_a\n",
        "  return y\n",
        "\n",
        "def differential(f, x) :\n",
        "  eps = 1e-5\n",
        "  diff_value  =  np.zeros_like(x)\n",
        "\n",
        "\n",
        "  for i in range(x.shape[0]) :\n",
        "     temp = x[i]\n",
        "\n",
        "     x[i] = temp + eps\n",
        "     f_h1 = f(x)\n",
        "\n",
        "     x[i] = temp - eps\n",
        "     f_h2 = f(x)\n",
        "\n",
        "     diff_value[i] = (f_h1 - f_h2) / (2 * eps)\n",
        "     x[i] = temp\n",
        "\n",
        "  return diff_value"
      ],
      "execution_count": null,
      "outputs": []
    },
    {
      "cell_type": "markdown",
      "metadata": {
        "id": "h5Z2LTT_y3i5"
      },
      "source": [
        "### 신경망"
      ]
    },
    {
      "cell_type": "code",
      "metadata": {
        "id": "gMTjjYgdy3D8"
      },
      "source": [
        "class LogicGateNet() :\n",
        "  def __init__(self) :\n",
        "    def weight_init() :\n",
        "      np.random.seed(1)\n",
        "      weights = np.random.random(2)\n",
        "      bias = np.random.random(1)\n",
        "\n",
        "      return weights, bias\n",
        "\n",
        "    self.weights, self.bias = weight_init()\n",
        "\n",
        "  def predict(self, x) :\n",
        "    W = self.weights.reshape(-1, 1)\n",
        "    b = self.bias \n",
        "\n",
        "    pred_y = sigmoid(np.dot(x, W) + b)\n",
        "    return pred_y\n",
        "\n",
        "  def loss(self, x, true_y) :\n",
        "    pred_y = self.predict(x)\n",
        "    return CrossEntropyForBinary(pred_y, true_y)\n",
        "\n",
        "  def get_gradient(self, x, t) :\n",
        "    def loss_grad(grad) :\n",
        "      return self.loss(x, t)\n",
        "    \n",
        "    grad_W = differential(loss_grad, self.weights)\n",
        "    grad_b = differential(loss_grad, self.bias)\n",
        "\n",
        "    return grad_W, grad_b\n",
        "\n"
      ],
      "execution_count": null,
      "outputs": []
    },
    {
      "cell_type": "markdown",
      "metadata": {
        "id": "wbNDoH_3zbGZ"
      },
      "source": [
        "### AND Gate"
      ]
    },
    {
      "cell_type": "markdown",
      "metadata": {
        "id": "2P-ib8_RzHTh"
      },
      "source": [
        "#### 모델 생성 및 학습"
      ]
    },
    {
      "cell_type": "code",
      "metadata": {
        "id": "rRiaACA6zGom",
        "colab": {
          "base_uri": "https://localhost:8080/"
        },
        "outputId": "309167ab-7fbe-4d37-b81d-d467a292e099"
      },
      "source": [
        "AND = LogicGateNet()\n",
        "\n",
        "X = np.array([[0, 0], [0, 1], [1, 0], [1, 1]])\n",
        "Y = np.array([[0],[0],[0],[1]])\n",
        "\n",
        "train_loss_list = list()\n",
        "\n",
        "for i in range(epochs) :\n",
        "  grad_W, grad_B  = AND.get_gradient(X, Y)\n",
        "\n",
        "  AND.weights -= learning_rate * grad_W\n",
        "  AND.bias -= learning_rate * grad_B\n",
        "\n",
        "  loss = AND.loss(X, Y)\n",
        "  train_loss_list.append(loss)\n",
        "\n",
        "  if i % 100 == 99 :\n",
        "    print(\"Epoch  : {}, Cost : {}. Weights : {}, Bias : {}\".format(i + 1, loss, AND.weights, AND.bias))"
      ],
      "execution_count": null,
      "outputs": [
        {
          "output_type": "stream",
          "text": [
            "Epoch  : 100, Cost : 0.6703649288690983. Weights : [1.14684857 1.24737423], Bias : [-2.15334596]\n",
            "Epoch  : 200, Cost : 0.49140512928667046. Weights : [1.8505543  1.88957211], Bias : [-3.08475984]\n",
            "Epoch  : 300, Cost : 0.39099231004086366. Weights : [2.35868338 2.37563883], Bias : [-3.79617159]\n",
            "Epoch  : 400, Cost : 0.32519023785861856. Weights : [2.76272218 2.77082306], Bias : [-4.37697186]\n",
            "Epoch  : 500, Cost : 0.2782816638467759. Weights : [3.10076671 3.10495315], Bias : [-4.86952426]\n",
            "Epoch  : 600, Cost : 0.24302165636432743. Weights : [3.3923874  3.39469668], Bias : [-5.29769087]\n",
            "Epoch  : 700, Cost : 0.21551905758388012. Weights : [3.64917707 3.65052241], Bias : [-5.67648867]\n",
            "Epoch  : 800, Cost : 0.19346573101384462. Weights : [3.87869145 3.87951227], Bias : [-6.01609872]\n",
            "Epoch  : 900, Cost : 0.17539444062295945. Weights : [4.08618981 4.08671076], Bias : [-6.32379433]\n",
            "Epoch  : 1000, Cost : 0.16032361587224755. Weights : [4.27550922 4.27585128], Bias : [-6.6049759]\n"
          ],
          "name": "stdout"
        }
      ]
    },
    {
      "cell_type": "markdown",
      "metadata": {
        "id": "PZoyQv_czT7R"
      },
      "source": [
        "#### 테스트"
      ]
    },
    {
      "cell_type": "code",
      "metadata": {
        "id": "-7CvWgc9zREa",
        "colab": {
          "base_uri": "https://localhost:8080/"
        },
        "outputId": "0f4bdb91-ede7-4faf-a195-c039e1aab409"
      },
      "source": [
        "print(AND.predict(X))"
      ],
      "execution_count": null,
      "outputs": [
        {
          "output_type": "stream",
          "text": [
            "[[0.00135179]\n",
            " [0.08873943]\n",
            " [0.08871177]\n",
            " [0.87505188]]\n"
          ],
          "name": "stdout"
        }
      ]
    },
    {
      "cell_type": "markdown",
      "metadata": {
        "id": "HoMXNiXWzts-"
      },
      "source": [
        "### OR Gate"
      ]
    },
    {
      "cell_type": "markdown",
      "metadata": {
        "id": "DZ79pc4jzw3O"
      },
      "source": [
        "#### 모델 생성 및 학습"
      ]
    },
    {
      "cell_type": "code",
      "metadata": {
        "id": "8gnLmAyQzuoL",
        "colab": {
          "base_uri": "https://localhost:8080/"
        },
        "outputId": "437f3b62-207e-497c-c1e9-9cc3a6b4228b"
      },
      "source": [
        "OR = LogicGateNet()\n",
        "\n",
        "X = np.array([[0, 0], [0, 1], [1, 0], [1, 1]])\n",
        "Y = np.array([[0],[1],[1],[1]])\n",
        "\n",
        "train_loss_list = list()\n",
        "\n",
        "for i in range(epochs) :\n",
        "  grad_W, grad_B  = OR.get_gradient(X, Y)\n",
        "\n",
        "  OR.weights -= learning_rate * grad_W\n",
        "  OR.bias -= learning_rate * grad_B\n",
        "\n",
        "  loss = OR.loss(X, Y)\n",
        "  train_loss_list.append(loss)\n",
        "\n",
        "  if i % 100 == 99 :\n",
        "    print(\"Epoch  : {}, Cost : {}. Weights : {}, Bias : {}\".format(i + 1, loss, OR.weights, OR.bias))"
      ],
      "execution_count": null,
      "outputs": [
        {
          "output_type": "stream",
          "text": [
            "Epoch  : 100, Cost : 0.4764558639826526. Weights : [1.85249172 1.99010432], Bias : [-0.2061687]\n",
            "Epoch  : 200, Cost : 0.3356853952441447. Weights : [2.64268089 2.71906988], Bias : [-0.69788722]\n",
            "Epoch  : 300, Cost : 0.2565418306932591. Weights : [3.23542859 3.28234692], Bias : [-1.04375393]\n",
            "Epoch  : 400, Cost : 0.20632746423327888. Weights : [3.70771305 3.73886408], Bias : [-1.30728079]\n",
            "Epoch  : 500, Cost : 0.17187425443611562. Weights : [4.09878075 4.12072851], Bias : [-1.51993261]\n",
            "Epoch  : 600, Cost : 0.14689488845231177. Weights : [4.43164667 4.44783457], Bias : [-1.69803104]\n",
            "Epoch  : 700, Cost : 0.12802287052926076. Weights : [4.72089799 4.73327496], Bias : [-1.85110183]\n",
            "Epoch  : 800, Cost : 0.11330144779267812. Weights : [4.97632756 4.98606751], Bias : [-1.98520582]\n",
            "Epoch  : 900, Cost : 0.10152020078873335. Weights : [5.20481001 5.2126572 ], Bias : [-2.10444513]\n",
            "Epoch  : 1000, Cost : 0.09189263089879302. Weights : [5.41134675 5.41779349], Bias : [-2.21172727]\n"
          ],
          "name": "stdout"
        }
      ]
    },
    {
      "cell_type": "markdown",
      "metadata": {
        "id": "jWmEtX_VnLSI"
      },
      "source": [
        "#### 테스트"
      ]
    },
    {
      "cell_type": "code",
      "metadata": {
        "id": "JwPpOs3-z2vU",
        "colab": {
          "base_uri": "https://localhost:8080/"
        },
        "outputId": "da9c6ec3-e536-403d-9a02-023ec416b39f"
      },
      "source": [
        "print(OR.predict(X))"
      ],
      "execution_count": null,
      "outputs": [
        {
          "output_type": "stream",
          "text": [
            "[[0.09870231]\n",
            " [0.96106192]\n",
            " [0.96081995]\n",
            " [0.99981911]]\n"
          ],
          "name": "stdout"
        }
      ]
    },
    {
      "cell_type": "markdown",
      "metadata": {
        "id": "JEBhczCIz57Q"
      },
      "source": [
        "### NAND Gate"
      ]
    },
    {
      "cell_type": "markdown",
      "metadata": {
        "id": "TzQaaHKKz8sZ"
      },
      "source": [
        "#### 모델 생성 및 학습"
      ]
    },
    {
      "cell_type": "code",
      "metadata": {
        "id": "h463QUQRz8PS",
        "colab": {
          "base_uri": "https://localhost:8080/"
        },
        "outputId": "204040cf-b04b-49d6-99b1-d28065d536f0"
      },
      "source": [
        "NAND = LogicGateNet()\n",
        "\n",
        "X = np.array([[0, 0], [0, 1], [1, 0], [1, 1]])\n",
        "Y = np.array([[1],[1],[1],[0]])\n",
        "\n",
        "train_loss_list = list()\n",
        "\n",
        "for i in range(epochs) :\n",
        "  grad_W, grad_B  = NAND.get_gradient(X, Y)\n",
        "\n",
        "  NAND.weights -= learning_rate * grad_W\n",
        "  NAND.bias -= learning_rate * grad_B\n",
        "\n",
        "  loss = NAND.loss(X, Y)\n",
        "  train_loss_list.append(loss)\n",
        "\n",
        "  if i % 100 == 99 :\n",
        "    print(\"Epoch  : {}, Cost : {}. Weights : {}, Bias : {}\".format(i + 1, loss, NAND.weights, NAND.bias))"
      ],
      "execution_count": null,
      "outputs": [
        {
          "output_type": "stream",
          "text": [
            "Epoch  : 100, Cost : 0.785575059252079. Weights : [-0.90420849 -0.80435571], Bias : [1.70129322]\n",
            "Epoch  : 200, Cost : 0.5459554011183771. Weights : [-1.65968544 -1.62270971], Bias : [2.76306714]\n",
            "Epoch  : 300, Cost : 0.42384640177649513. Weights : [-2.19944393 -2.18402146], Bias : [3.543421]\n",
            "Epoch  : 400, Cost : 0.34749295963020577. Weights : [-2.62669119 -2.61956974], Bias : [4.16749318]\n",
            "Epoch  : 500, Cost : 0.2945159073850404. Weights : [-2.98253561 -2.97895774], Bias : [4.69020982]\n",
            "Epoch  : 600, Cost : 0.2553958802415074. Weights : [-3.28813637 -3.28620862], Bias : [5.14081482]\n",
            "Epoch  : 700, Cost : 0.22526900089448496. Weights : [-3.55612786 -3.55502674], Bias : [5.53704322]\n",
            "Epoch  : 800, Cost : 0.2013447410778046. Weights : [-3.79478089 -3.79412024], Bias : [5.89061972]\n",
            "Epoch  : 900, Cost : 0.1818908562960158. Weights : [-4.00985544 -4.00944212], Bias : [6.20977098]\n",
            "Epoch  : 1000, Cost : 0.1657689747800005. Weights : [-4.20554543 -4.20527738], Bias : [6.50052361]\n"
          ],
          "name": "stdout"
        }
      ]
    },
    {
      "cell_type": "markdown",
      "metadata": {
        "id": "jR-rHaTU0Mga"
      },
      "source": [
        "#### 테스트"
      ]
    },
    {
      "cell_type": "code",
      "metadata": {
        "id": "WpzKW6sm0Ghp",
        "colab": {
          "base_uri": "https://localhost:8080/"
        },
        "outputId": "de59df67-9fc1-48a1-f5a8-2bf74c5939ec"
      },
      "source": [
        "print(NAND.predict(X))"
      ],
      "execution_count": null,
      "outputs": [
        {
          "output_type": "stream",
          "text": [
            "[[0.9984996 ]\n",
            " [0.90848257]\n",
            " [0.90846028]\n",
            " [0.12894724]]\n"
          ],
          "name": "stdout"
        }
      ]
    },
    {
      "cell_type": "markdown",
      "metadata": {
        "id": "NiTWfSQ60Zl2"
      },
      "source": [
        "### XOR Gate"
      ]
    },
    {
      "cell_type": "markdown",
      "metadata": {
        "id": "hmmL0VIu0bXq"
      },
      "source": [
        "#### 모델 생성 및 학습"
      ]
    },
    {
      "cell_type": "code",
      "metadata": {
        "id": "0CGm0r1M0a9M",
        "colab": {
          "base_uri": "https://localhost:8080/"
        },
        "outputId": "542b26ad-baec-433d-81e1-c935cffe471d"
      },
      "source": [
        "XOR = LogicGateNet()\n",
        "\n",
        "X = np.array([[0, 0], [0, 1], [1, 0], [1, 1]])\n",
        "Y = np.array([[0],[1],[1],[0]])\n",
        "\n",
        "train_loss_list = list()\n",
        "\n",
        "for i in range(epochs) :\n",
        "  grad_W, grad_B  = XOR.get_gradient(X, Y)\n",
        "\n",
        "  XOR.weights -= learning_rate * grad_W\n",
        "  XOR.bias -= learning_rate * grad_B\n",
        "\n",
        "  loss = XOR.loss(X, Y)\n",
        "  train_loss_list.append(loss)\n",
        "\n",
        "  if i % 100 == 99 :\n",
        "    print(\"Epoch  : {}, Cost : {}. Weights : {}, Bias : {}\".format(i + 1, loss, XOR.weights, XOR.bias))"
      ],
      "execution_count": null,
      "outputs": [
        {
          "output_type": "stream",
          "text": [
            "Epoch  : 100, Cost : 1.3896650327218776. Weights : [0.1098786  0.19669642], Bias : [-0.18167981]\n",
            "Epoch  : 200, Cost : 1.386963821348934. Weights : [0.05742285 0.08210642], Bias : [-0.08275424]\n",
            "Epoch  : 300, Cost : 1.3864305505528147. Weights : [0.02823182 0.03524852], Bias : [-0.03764863]\n",
            "Epoch  : 400, Cost : 1.3863223488274148. Weights : [0.01344098 0.01543553], Bias : [-0.01712583]\n",
            "Epoch  : 500, Cost : 1.386300136431333. Weights : [0.00628411 0.00685107], Bias : [-0.00779009]\n",
            "Epoch  : 600, Cost : 1.386295554811359. Weights : [0.00290682 0.00306799], Bias : [-0.00354348]\n",
            "Epoch  : 700, Cost : 1.3862946080009135. Weights : [0.00133598 0.00138179], Bias : [-0.00161183]\n",
            "Epoch  : 800, Cost : 1.3862944121930447. Weights : [0.0006116  0.00062463], Bias : [-0.00073317]\n",
            "Epoch  : 900, Cost : 1.3862943716866167. Weights : [0.00027931 0.00028301], Bias : [-0.0003335]\n",
            "Epoch  : 1000, Cost : 1.3862943633061662. Weights : [0.00012737 0.00012842], Bias : [-0.0001517]\n"
          ],
          "name": "stdout"
        }
      ]
    },
    {
      "cell_type": "markdown",
      "metadata": {
        "id": "Cy-ktElI0o5P"
      },
      "source": [
        "#### 테스트"
      ]
    },
    {
      "cell_type": "code",
      "metadata": {
        "id": "GWAJAJ_T0oqm",
        "colab": {
          "base_uri": "https://localhost:8080/"
        },
        "outputId": "13213612-c74e-48db-b736-b3c984c5ed20"
      },
      "source": [
        "print(XOR.predict(X))"
      ],
      "execution_count": null,
      "outputs": [
        {
          "output_type": "stream",
          "text": [
            "[[0.49996208]\n",
            " [0.49999418]\n",
            " [0.49999392]\n",
            " [0.50002602]]\n"
          ],
          "name": "stdout"
        }
      ]
    },
    {
      "cell_type": "markdown",
      "metadata": {
        "id": "VAlq_-6E1nIq"
      },
      "source": [
        "#### 2층 신경망으로 XOR 게이트 구현(1)\n",
        "\n",
        "- 얕은 신경망, Shallow Neural Network\n",
        "\n",
        "- 두 논리게이트(NAND, OR)를 통과하고  \n",
        "  AND 게이트로 합쳐서 구현\n",
        "\n",
        "- 06 신경망 구조 참고"
      ]
    },
    {
      "cell_type": "code",
      "metadata": {
        "id": "mr7nYMG20jTo",
        "colab": {
          "base_uri": "https://localhost:8080/"
        },
        "outputId": "dfc388ee-e1f5-4896-d2b8-554bf2dbc10a"
      },
      "source": [
        "X = np.array([[0, 0], [0, 1], [1, 0], [1, 1]])\n",
        "Y_5 = np.array([[0], [1], [1], [0]])\n",
        "\n",
        "s1 = NAND.predict(X)\n",
        "s2 = OR.predict(X)\n",
        "\n",
        "print(s1)\n",
        "print(s2)\n",
        "\n",
        "X2 = np.array([s1, s2]).T.reshape(-1, 2)\n",
        "\n",
        "print(X2)"
      ],
      "execution_count": null,
      "outputs": [
        {
          "output_type": "stream",
          "text": [
            "[[0.9984996 ]\n",
            " [0.90848257]\n",
            " [0.90846028]\n",
            " [0.12894724]]\n",
            "[[0.09870231]\n",
            " [0.96106192]\n",
            " [0.96081995]\n",
            " [0.99981911]]\n",
            "[[0.9984996  0.09870231]\n",
            " [0.90848257 0.96106192]\n",
            " [0.90846028 0.96081995]\n",
            " [0.12894724 0.99981911]]\n"
          ],
          "name": "stdout"
        }
      ]
    },
    {
      "cell_type": "markdown",
      "metadata": {
        "id": "nkTDx8Ah1xHY"
      },
      "source": [
        "#### 테스트"
      ]
    },
    {
      "cell_type": "code",
      "metadata": {
        "id": "LK2iD5A91yWQ",
        "colab": {
          "base_uri": "https://localhost:8080/"
        },
        "outputId": "524d46a8-b4e2-48dd-b980-df8cf4c7673b"
      },
      "source": [
        "print(AND.predict(X2))"
      ],
      "execution_count": null,
      "outputs": [
        {
          "output_type": "stream",
          "text": [
            "[[0.12854947]\n",
            " [0.80036985]\n",
            " [0.80018926]\n",
            " [0.1444782 ]]\n"
          ],
          "name": "stdout"
        }
      ]
    },
    {
      "cell_type": "markdown",
      "metadata": {
        "id": "i-SK4G262Agn"
      },
      "source": [
        "#### 2층 신경망으로 XOR 게이트 구현(2)\n",
        "- 클래스로 구현"
      ]
    },
    {
      "cell_type": "code",
      "metadata": {
        "id": "8RpnHCRZ1zwr"
      },
      "source": [
        "class XORNet() :\n",
        "\n",
        "  def __init__(self) :\n",
        "    np.random.seed(1)\n",
        "\n",
        "    def weight_init() :\n",
        "      params = {}\n",
        "      params['w_1'] = np.random.randn(2)  # 표준 정규분포로 샘플링된 난수 -> 가우시안 정규분포\n",
        "      params['b_1']  = np.random.rand(2)  # 균일한 분포를 갖습니다.\n",
        "      params['w_2'] = np.random.randn(2)\n",
        "      params['b_2']  = np.random.rand(1)\n",
        "      return params\n",
        "\n",
        "    self.params = weight_init()\n",
        "\n",
        "  def predict(self, x) :\n",
        "    W1, W2 = self.params['w_1'].reshape(-1, 1), self.params['w_2'].reshape(-1, 1)\n",
        "    B1, B2 = self.params['b_1'], self.params['b_2']\n",
        "\n",
        "    A1 = np.dot(x, W1) + B1\n",
        "    Z1 = sigmoid(A1)\n",
        "\n",
        "    A2 = np.dot(Z1, W2) + B2\n",
        "    pred_y = sigmoid(A2)\n",
        "\n",
        "    return pred_y\n",
        "\n",
        "  def loss(self, x, true_y) :\n",
        "    pred_y = self.predict(x) \n",
        "    return CrossEntropyForBinary(pred_y, true_y)\n",
        "\n",
        "  def GetGradient(self, x, t) :\n",
        "    def loss_grad(grad) : \n",
        "      return self.loss(x, t)\n",
        "\n",
        "    grads = {}\n",
        "    grads['w_1'] = differential(loss_grad, self.params['w_1'])\n",
        "    grads['w_2'] = differential(loss_grad, self.params['w_2'])\n",
        "    grads['b_1'] = differential(loss_grad, self.params['b_1'])\n",
        "    grads['b_2'] = differential(loss_grad, self.params['b_2'])\n",
        "\n",
        "    return grads\n",
        "    "
      ],
      "execution_count": null,
      "outputs": []
    },
    {
      "cell_type": "markdown",
      "metadata": {
        "id": "lplK_x0l2YLh"
      },
      "source": [
        "#### 하이퍼 파라미터(Hyper Parameter)\n",
        "- 재조정"
      ]
    },
    {
      "cell_type": "code",
      "metadata": {
        "id": "qf-3wWSv2b7l"
      },
      "source": [
        "learning_rate = 0.6"
      ],
      "execution_count": null,
      "outputs": []
    },
    {
      "cell_type": "markdown",
      "metadata": {
        "id": "lmHKd45d2JbJ"
      },
      "source": [
        "#### 모델 생성 및 학습"
      ]
    },
    {
      "cell_type": "code",
      "metadata": {
        "id": "cQNd3XVd2Gj7",
        "colab": {
          "base_uri": "https://localhost:8080/"
        },
        "outputId": "8735b3a8-8f21-48a0-a359-dcdeab9638ec"
      },
      "source": [
        "XOR = XORNet()\n",
        "\n",
        "X = np.array([[0, 0], [0, 1],[1, 0],[1, 1]])\n",
        "Y_ = np.array([[0], [1], [1], [0]])\n",
        "\n",
        "train_loss_list = list()\n",
        "\n",
        "for i in range(epochs) :\n",
        "  grads = XOR.GetGradient(X, Y_)\n",
        "\n",
        "  for key in ('w_1', 'b_1', 'w_2', 'b_2') :\n",
        "    XOR.params[key] -= learning_rate * grads[key]\n",
        "\n",
        "  loss = XOR.loss(X, Y_)\n",
        "  train_loss_list.append(loss)\n",
        "\n",
        "  if i % 100 == 99 :\n",
        "    print(\"Epoch  : {}, Cost : {}\".format(i + 1, loss))"
      ],
      "execution_count": null,
      "outputs": [
        {
          "output_type": "stream",
          "text": [
            "Epoch  : 100, Cost : 1.283437290098023\n",
            "Epoch  : 200, Cost : 0.34122767024730666\n",
            "Epoch  : 300, Cost : 0.12011506391380639\n",
            "Epoch  : 400, Cost : 0.06995884964920879\n",
            "Epoch  : 500, Cost : 0.04886758225502742\n",
            "Epoch  : 600, Cost : 0.03740289764904623\n",
            "Epoch  : 700, Cost : 0.03023745020029203\n",
            "Epoch  : 800, Cost : 0.025348375325259853\n",
            "Epoch  : 900, Cost : 0.021805376116437406\n",
            "Epoch  : 1000, Cost : 0.019122604320984483\n"
          ],
          "name": "stdout"
        }
      ]
    },
    {
      "cell_type": "markdown",
      "metadata": {
        "id": "IIV_GsoG2eDs"
      },
      "source": [
        "#### 테스트"
      ]
    },
    {
      "cell_type": "code",
      "metadata": {
        "id": "Dpr0nZhc2Szr",
        "colab": {
          "base_uri": "https://localhost:8080/"
        },
        "outputId": "5cb1869f-014e-4b49-a462-db7073ec6155"
      },
      "source": [
        "print(XOR.predict(X))"
      ],
      "execution_count": null,
      "outputs": [
        {
          "output_type": "stream",
          "text": [
            "[[0.00852028]\n",
            " [0.987492  ]\n",
            " [0.99151035]\n",
            " [0.00853898]]\n"
          ],
          "name": "stdout"
        }
      ]
    },
    {
      "cell_type": "markdown",
      "metadata": {
        "id": "_1IuDL8R7wrx"
      },
      "source": [
        "## 다중 클래스 분류 : MNIST Dataset"
      ]
    },
    {
      "cell_type": "markdown",
      "metadata": {
        "id": "9CiJ5Gmq9Wpa"
      },
      "source": [
        "### 배치 처리\n",
        "- 학습 데이터 전체를 한번에 진행하지 않고  \n",
        "  일부 데이터(샘플)을 확률적으로 구해서 조금씩 나누어 진행\n",
        "\n",
        "- 확률적 경사 하강법(Stochastic Gradient Descent) 또는  \n",
        "  미니 배치 학습법(mini-batch learning)이라고도 부름"
      ]
    },
    {
      "cell_type": "markdown",
      "metadata": {
        "id": "YUDNWwj49byH"
      },
      "source": [
        "#### 신경망 구현 : MNIST "
      ]
    },
    {
      "cell_type": "markdown",
      "metadata": {
        "id": "WjBRQYlP74GM"
      },
      "source": [
        "#### 필요한 모듈 임포트"
      ]
    },
    {
      "cell_type": "code",
      "metadata": {
        "id": "h0lJbkuW71lm"
      },
      "source": [
        "import numpy as np\n",
        "import matplotlib.pyplot as plt\n",
        "import tensorflow as tf\n",
        "import time\n",
        "from tqdm.notebook import tqdm"
      ],
      "execution_count": null,
      "outputs": []
    },
    {
      "cell_type": "markdown",
      "metadata": {
        "id": "MDvtEiD77_gu"
      },
      "source": [
        "#### 데이터 로드"
      ]
    },
    {
      "cell_type": "code",
      "metadata": {
        "id": "4WL7zXMl_uo9"
      },
      "source": [
        "mnist = tf.keras.datasets.mnist\n",
        "\n",
        "(x_train, y_train), (x_test, y_test) = mnist.load_data()"
      ],
      "execution_count": null,
      "outputs": []
    },
    {
      "cell_type": "markdown",
      "metadata": {
        "id": "e_rNg5Jn8FRA"
      },
      "source": [
        "#### 데이터 확인"
      ]
    },
    {
      "cell_type": "code",
      "metadata": {
        "id": "u4wpsQGA8BOO",
        "colab": {
          "base_uri": "https://localhost:8080/"
        },
        "outputId": "cd1e8876-6a00-48a1-90c6-64826768cd2d"
      },
      "source": [
        "print(x_train.shape)\n",
        "print(y_train.shape)\n",
        "\n",
        "print(x_test.shape)\n",
        "print(y_test.shape)"
      ],
      "execution_count": null,
      "outputs": [
        {
          "output_type": "stream",
          "text": [
            "(60000, 28, 28)\n",
            "(60000,)\n",
            "(10000, 28, 28)\n",
            "(10000,)\n"
          ],
          "name": "stdout"
        }
      ]
    },
    {
      "cell_type": "code",
      "metadata": {
        "id": "pU7nvkHO8IFR",
        "colab": {
          "base_uri": "https://localhost:8080/",
          "height": 283
        },
        "outputId": "0283f794-f436-42d3-af92-a9981c201786"
      },
      "source": [
        "img = x_train[0]\n",
        "print(img.shape)\n",
        "\n",
        "plt.imshow(img, cmap='gray')\n",
        "plt.show()"
      ],
      "execution_count": null,
      "outputs": [
        {
          "output_type": "stream",
          "text": [
            "(28, 28)\n"
          ],
          "name": "stdout"
        },
        {
          "output_type": "display_data",
          "data": {
            "image/png": "[encoded data removed]",
            "text/plain": [
              "<Figure size 432x288 with 1 Axes>"
            ]
          },
          "metadata": {
            "tags": [],
            "needs_background": "light"
          }
        }
      ]
    },
    {
      "cell_type": "code",
      "metadata": {
        "id": "WbBA1Kl18KGT",
        "colab": {
          "base_uri": "https://localhost:8080/"
        },
        "outputId": "a2e7cd8e-487f-4e8c-9bfd-c4df5b5e3a5f"
      },
      "source": [
        "y_train[0] # 정답 "
      ],
      "execution_count": null,
      "outputs": [
        {
          "output_type": "execute_result",
          "data": {
            "text/plain": [
              "5"
            ]
          },
          "metadata": {
            "tags": []
          },
          "execution_count": 112
        }
      ]
    },
    {
      "cell_type": "markdown",
      "metadata": {
        "id": "MTFu8i-z8U_C"
      },
      "source": [
        "#### 데이터 전처리 (Data Preprocessing)"
      ]
    },
    {
      "cell_type": "code",
      "metadata": {
        "id": "q76pjKDVftHJ"
      },
      "source": [
        "def flatten_for_mnist(x) :\n",
        "  temp = np.zeros((x.shape[0], x[0].size))\n",
        "\n",
        "  for index, data in enumerate(x) :\n",
        "    temp[index, :] = data.flatten()  # 행의 인덱스가 index인 값  # flatten 1차원 배열화\n",
        "    \n",
        "  return temp"
      ],
      "execution_count": null,
      "outputs": []
    },
    {
      "cell_type": "code",
      "metadata": {
        "id": "vvMWrDOR8Mns",
        "colab": {
          "base_uri": "https://localhost:8080/"
        },
        "outputId": "53cb3605-ce18-423d-92d9-6a6181036099"
      },
      "source": [
        "x_train, x_test = x_train / 255.0,  x_test / 255.0 # Normalization RGB 255 bit\n",
        "\n",
        "x_train = flatten_for_mnist(x_train)\n",
        "x_test = flatten_for_mnist(x_test)\n",
        "\n",
        "print(x_train.shape)\n",
        "print(x_test.shape)\n",
        "\n",
        "y_train_ohe = tf.one_hot(y_train, depth = 10).numpy()\n",
        "y_test_ohe = tf.one_hot(y_test, depth = 10).numpy()\n",
        "\n",
        "print(y_train_ohe.shape)\n",
        "print(y_test_ohe.shape)"
      ],
      "execution_count": null,
      "outputs": [
        {
          "output_type": "stream",
          "text": [
            "(60000, 784)\n",
            "(10000, 784)\n",
            "(60000, 10)\n",
            "(10000, 10)\n"
          ],
          "name": "stdout"
        }
      ]
    },
    {
      "cell_type": "code",
      "metadata": {
        "id": "9LjpWz0dotJs",
        "colab": {
          "base_uri": "https://localhost:8080/"
        },
        "outputId": "c4adf019-b250-44d7-f1b3-dacc949c2be6"
      },
      "source": [
        "print(x_train[0].max(), x_train[0].min())\n",
        "print(y_train_ohe[0])"
      ],
      "execution_count": null,
      "outputs": [
        {
          "output_type": "stream",
          "text": [
            "1.5378700499807765e-05 0.0\n",
            "[0. 0. 0. 0. 0. 1. 0. 0. 0. 0.]\n"
          ],
          "name": "stdout"
        }
      ]
    },
    {
      "cell_type": "markdown",
      "metadata": {
        "id": "5GUaa92Y9RhY"
      },
      "source": [
        "#### 하이퍼 파라미터(Hyper Parameter)"
      ]
    },
    {
      "cell_type": "code",
      "metadata": {
        "id": "sk3FXXLi9Th5"
      },
      "source": [
        "epochs = 2\n",
        "lr = 0.1\n",
        "batch_size = 100\n",
        "train_size = x_train.shape[0]"
      ],
      "execution_count": null,
      "outputs": []
    },
    {
      "cell_type": "markdown",
      "metadata": {
        "id": "5lMJ0h8p8iZl"
      },
      "source": [
        "#### 사용되는 함수들(Util Functions)"
      ]
    },
    {
      "cell_type": "code",
      "metadata": {
        "id": "bSlqZ2Xx8hFn"
      },
      "source": [
        "def differential2D(f, X) :\n",
        "  if X.ndim == 1 :\n",
        "    return differential(f, X)\n",
        "\n",
        "  grad = np.zeros_like(X)\n",
        "  \n",
        "  for idx, x in enumerate(X) :\n",
        "    grad[idx] = differential(f, x)\n",
        "  \n",
        "  return grad"
      ],
      "execution_count": null,
      "outputs": []
    },
    {
      "cell_type": "markdown",
      "metadata": {
        "id": "sSoV9fyj8_u7"
      },
      "source": [
        "#### 2층 신경망으로 구현"
      ]
    },
    {
      "cell_type": "code",
      "metadata": {
        "id": "XBObD5Fw89HI"
      },
      "source": [
        "class MyModel() :\n",
        "\n",
        "  def __init__(self) :\n",
        "  \n",
        "\n",
        "    def weight_init(input_nodes, hidden_nodes, output_units) :\n",
        "       np.random.seed(777)\n",
        "\n",
        "       params = {}\n",
        "       params['w_1'] = 0.01 * np.random.randn(input_nodes, hidden_nodes) \n",
        "       params['b_1']  = np.zeros(hidden_nodes)\n",
        "       params['w_2'] = 0.01 * np.random.randn(hidden_nodes, output_units) \n",
        "       params['b_2']  = np.zeros(output_units)\n",
        "       return params\n",
        "\n",
        "    self.params = weight_init(784, 64, 10) # 데이터 shape로 부터 가져옴\n",
        "\n",
        "  def predict(self, x) :\n",
        "    W1, W2 = self.params['w_1'], self.params['w_2']\n",
        "    B1, B2    = self.params['b_1'], self.params['b_2']\n",
        "\n",
        "    A1 = np.dot(x, W1) + B1\n",
        "    Z1 = sigmoid(A1)\n",
        "\n",
        "    A2 = np.dot(Z1, W2) + B2\n",
        "    pred_y =  SoftMax(A2)\n",
        "\n",
        "    return pred_y\n",
        "\n",
        "  def loss(self, x, true_y) :\n",
        "    pred_y = self.predict(x) \n",
        "    return CrossEntropyForBinary(pred_y, true_y)\n",
        "\n",
        "  def GetGradient(self, x, t) :\n",
        "    def loss_grad(grad) : \n",
        "      return self.loss(x, t)\n",
        "\n",
        "    grads = {}\n",
        "    grads['w_1'] = differential2D(loss_grad, self.params['w_1'])\n",
        "    grads['b_1'] = differential2D(loss_grad, self.params['b_1'])\n",
        "    grads['w_2'] = differential2D(loss_grad, self.params['w_2'])\n",
        "    grads['b_2'] = differential2D(loss_grad, self.params['b_2'])\n",
        "\n",
        "    return grads\n",
        "    \n",
        "  def accuracy(self, x, true_y) :\n",
        "    pred_y = self.predict(x)\n",
        "    y_argmax = np.argmax(pred_y, axis = 1)\n",
        "    t_argmax = np.argmax(true_y,  axis = 1)\n",
        "\n",
        "    accuracy = np.sum(y_argmax == t_argmax) / float(x.shape[0])\n",
        "\n",
        "    return accuracy\n"
      ],
      "execution_count": null,
      "outputs": []
    },
    {
      "cell_type": "markdown",
      "metadata": {
        "id": "maKNIlK-xJ5k"
      },
      "source": [
        "#### 모델 생성 및 학습\n",
        "- 시간 많이 소요"
      ]
    },
    {
      "cell_type": "code",
      "metadata": {
        "id": "XSEARgNIop8t",
        "colab": {
          "base_uri": "https://localhost:8080/",
          "height": 122,
          "referenced_widgets": [
            "ae0a257487ff4bad967388ee1436b7e5",
            "4c8cf105ceea482db6f5583372bf5272",
            "d341776b2e394810847b3e589c25d135",
            "d00917ab57874cf69a46a53359857eed",
            "08c6d81299ad4d8696571752cb378bfe",
            "0f696bd021654d81bc714b200dabf1b2",
            "b05766d9f18340c6bb903cd497672715",
            "3a959a9408ca4783bddf7abbc5fcbfb0"
          ]
        },
        "outputId": "702fae9f-56db-4e05-a005-c8d6b80fa0de"
      },
      "source": [
        "model = MyModel()\n",
        "\n",
        "train_loss_list = list()\n",
        "train_acc_list = list()\n",
        "test_acc_list = list()\n",
        "\n",
        "iter_per_epoch = max(train_size / batch_size , 1)\n",
        "\n",
        "start_time = time.time()\n",
        "\n",
        "for i in tqdm(range(epochs)) :\n",
        "  batch_index = np.random.choice(train_size, batch_size)\n",
        "  x_batch = x_train[batch_index]\n",
        "  y_batch = y_train_ohe[batch_index]\n",
        "\n",
        "  grads = model.GetGradient(x_batch, y_batch)\n",
        "\n",
        "  for key in grads.keys() :\n",
        "    model.params[key] -= lr * grads[key]\n",
        "\n",
        "  loss = model.loss(x_batch, y_batch)\n",
        "  train_loss_list.append(loss)\n",
        "\n",
        "  train_accuracy = model.accuracy(x_train, y_train_ohe)\n",
        "  test_accuracy = model.accuracy(x_test, y_test_ohe)\n",
        "\n",
        "  train_acc_list.append(train_accuracy)\n",
        "  test_acc_list.append(test_accuracy) \n",
        "\n",
        "  print(\"Epoch : {}, Cost : {} Train Accuracy : {}, Test Accuracy : {}\".format(i +1, loss, train_accuracy, test_accuracy))\n",
        "\n",
        "end_time = time.time()\n",
        "\n",
        "print(\"총 학습 시간 : {:.3f}s\".format(end_time - start_time))"
      ],
      "execution_count": null,
      "outputs": [
        {
          "output_type": "display_data",
          "data": {
            "application/vnd.jupyter.widget-view+json": {
              "model_id": "ae0a257487ff4bad967388ee1436b7e5",
              "version_minor": 0,
              "version_major": 2
            },
            "text/plain": [
              "HBox(children=(FloatProgress(value=0.0, max=2.0), HTML(value='')))"
            ]
          },
          "metadata": {
            "tags": []
          }
        },
        {
          "output_type": "stream",
          "text": [
            "Epoch : 1, Cost : 465.9060502356192 Train Accuracy : 0.10441666666666667, Test Accuracy : 0.1028\n",
            "Epoch : 2, Cost : 361.8440950235913 Train Accuracy : 0.09751666666666667, Test Accuracy : 0.0974\n",
            "\n",
            "총 학습 시간 : 176.132s\n"
          ],
          "name": "stdout"
        }
      ]
    },
    {
      "cell_type": "markdown",
      "metadata": {
        "id": "b7nL8f20x4zl"
      },
      "source": [
        "### 모델의 결과\n",
        "- 모델은 학습이 잘 될 수도, 잘 안될 수도 있음\n",
        "\n",
        "- 만약, 학습이 잘 되지 않았다면,  \n",
        "  학습이 잘 되기 위해서 어떠한 조치를 취해야 하는가?\n",
        "  - 다양한 학습관련 기술이 존재"
      ]
    }
  ]
}