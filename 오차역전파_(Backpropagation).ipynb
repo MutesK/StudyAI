{
  "nbformat": 4,
  "nbformat_minor": 0,
  "metadata": {
    "colab": {
      "name": "_8 오차역전파 (Backpropagation)",
      "provenance": [],
      "collapsed_sections": [],
      "toc_visible": true,
      "history_visible": true
    },
    "kernelspec": {
      "name": "python3",
      "display_name": "Python 3"
    }
  },
  "cells": [
    {
      "cell_type": "markdown",
      "metadata": {
        "id": "S9Db_VsP_m1S"
      },
      "source": [
        "## 오차역전파 (Backpropagation)\n"
      ]
    },
    {
      "cell_type": "markdown",
      "metadata": {
        "id": "8Vdi2PAG_3lW"
      },
      "source": [
        "### 오차역전파 알고리즘\n",
        "- 학습 데이터로 정방향(forward) 연산을 통해 손실함수 값(loss)을 구함\n",
        "\n",
        "- 각 layer별로 역전파학습을 위해 중간값을 저장\n",
        "\n",
        "- 손실함수를 학습 파라미터(가중치, 편향)로 미분하여  \n",
        "  마지막 layer로부터 앞으로 하나씩 연쇄법칙을 이용하여 미분\n",
        "  각 layer를 통과할 때마다 저장된 값을 이용\n",
        "\n",
        "- 오류(error)를 전달하면서 학습 파라미터를 조금씩 갱신\n",
        "\n",
        "\n",
        "![](https://cdn.datamaker.io/django-rdproject/uploads/2020/09/16/image_io2SSdc.png)\n",
        "\n",
        "- 컴퓨터는 주어진 입력값을 신경망을 거쳐 출력값으로 반환합니다. 신경망은 <입력 - 신경망 - 출력 > 과 같이 좌측에서 우측으로의 진행방향을 갖습니다. 그러나 훈련을 위해서 오차 역전파 과정에서는 이와는 반대의 진행방향을 갖습니다. 오차 역전파 과정은 컴퓨터가 예측값의 정확도를 높이기 위해 출력값과 실제 예측하고자 하는 값을 비교하여 가중치를 변경하는 작업을 말합니다.\n",
        "\n",
        "\n",
        "![](https://cdn.datamaker.io/django-rdproject/uploads/2020/09/16/image-1_uzw2Se8.png)"
      ]
    },
    {
      "cell_type": "markdown",
      "metadata": {
        "id": "-o545ezeUuSB"
      },
      "source": [
        "### 오차역전파 학습의 특징\n",
        "- 손실함수를 통한 평가를 한 번만 하고, 연쇄법칙을 이용한 미분을 활용하기 때문에  \n",
        "  학습 소요시간이 매우 단축!\n",
        "\n",
        "- 미분을 위한 중간값을 모두 저장하기 때문에 메모리를 많이 사용\n"
      ]
    },
    {
      "cell_type": "markdown",
      "metadata": {
        "id": "CFoTt-ds_w8C"
      },
      "source": [
        "### 신경망 학습에 있어서 미분가능의 중요성\n",
        "- 경사하강법(Gradient Descent)에서 손실 함수(cost function)의 최소값,  \n",
        "  즉, 최적값을 찾기 위한 방법으로 미분을 활용\n",
        "\n",
        "- 미분을 통해 손실 함수의 학습 매개변수(trainable parameter)를 갱신하여  \n",
        "  모델의 가중치의 최적값을 찾는 과정\n",
        "\n",
        "![](https://i.pinimg.com/originals/5d/13/20/5d1320c7b672710834e63b95a7c1037b.png)\n",
        "\n",
        "<sub>출처: https://www.pinterest.co.kr/pin/424816177350692379/</sub>"
      ]
    },
    {
      "cell_type": "markdown",
      "metadata": {
        "id": "ilYRMqLeQf6Z"
      },
      "source": [
        "### 합성함수의 미분 (연쇄법칙, chain rule)\n",
        "\n",
        "## $\\qquad \\frac{d}{dx} [f(g(x))] = f^\\prime(g(x))g^\\prime(x)$  \n",
        " \n",
        "\n",
        "- 여러 개 연속으로 사용가능  \n",
        "  ## $ \\quad \\frac{\\partial f}{\\partial x} = \\frac{\\partial f}{\\partial u} \\times \\frac{\\partial u}{\\partial m} \\times \\frac{\\partial m}{\\partial n} \\times \\ ... \\ \\frac{\\partial l}{\\partial k} \\times \\frac{\\partial k}{\\partial g} \\times \\frac{\\partial g}{\\partial x} \n",
        "  $\n",
        "- 각각에 대해 편미분 적용가능\n",
        "\n",
        "![](https://cdn-media-1.freecodecamp.org/images/1*_KMMFvRP5X9kC59brI0ykw.png)\n",
        "<sub>출처: https://www.freecodecamp.org/news/demystifying-gradient-descent-and-backpropagation-via-logistic-regression-based-image-classification-9b5526c2ed46/</sub>\n",
        "\n",
        "- **오차역전파의 직관적 이해**\n",
        "  - 학습을 진행하면서, 즉 손실함수의 최소값(minimum)을 찾아가는 과정에서 가중치 또는 편향의 변화에 따라 얼마나 영향을 받는지 알 수 있음\n",
        "\n"
      ]
    },
    {
      "cell_type": "markdown",
      "metadata": {
        "id": "6NLF8CXiQkuL"
      },
      "source": [
        "#### 합성함수 미분(chain rule) 예제\n",
        "\n",
        "![](https://miro.medium.com/max/1000/1*azqHvbrNsZ8AIZ7H75tbIQ.jpeg)\n",
        "\n",
        "<sub>출처: https://medium.com/spidernitt/breaking-down-neural-networks-an-intuitive-approach-to-backpropagation-3b2ff958794c</sub>\n",
        "\n",
        "\n",
        "  #### $\\quad a=-1, \\ b=3, \\ c=4 $,\n",
        "  #### $\\quad x = a + b, \\ y = b + c, \\ f = x * y \\ 일 때 $    \n",
        "\n",
        "\n",
        "  $\\quad \\begin{matrix}\\frac{\\partial f}{\\partial x} &=& y\\ + \\ x \\ \\frac{\\partial y}{\\partial x}  \\\\\n",
        "  &=& (b \\ + \\ c) \\ + \\ (a \\ +\\ b)\\ \\times \\ 0   \\\\\n",
        "  &=& 7 \\end{matrix}$\n",
        "\n",
        "  $\\quad \\begin{matrix}\\frac{\\partial f}{\\partial y} &=& x\\ + \\ \\frac{\\partial x}{\\partial y} \\ y \\\\\n",
        "  &=& (a \\ + \\ b) \\ + \\ 0 \\times (b \\ +\\ c) \\\\\n",
        "  &=& 2 \\end{matrix}$\n",
        "\n",
        "  <br>\n",
        "\n",
        "  $ \\quad \\begin{matrix} \\frac{\\partial x}{\\partial a} &=& 1 \\ + \\ a \\ \\frac{\\partial b}{\\partial a} \\\\\n",
        "  &=& 1 \\end{matrix} $\n",
        "  $ \\quad \\begin{matrix} \\frac{\\partial y}{\\partial c} &=& \\frac{\\partial b}{\\partial c}\\ + 1 \\\\\n",
        "   &=& 1 \\end{matrix} $\n",
        "  \n",
        "  <br>\n",
        "\n",
        "  $ \\quad \\begin{matrix} \\frac{\\partial f}{\\partial a} &=& \\frac{\\partial f}{\\partial x} \\times \\frac{\\partial x}{\\partial a} \\\\\n",
        "  &=& y \\times 1 \\\\ \n",
        "  &=& 7 \\times 1 = 7 \\\\\n",
        "  &=& 7  \\end{matrix} $\n",
        "    \n",
        " $ \\quad \\begin{matrix} \\frac{\\partial f}{\\partial b}\\ \n",
        "  &=& \\frac{\\partial x}{\\partial b} \\ y \\ + \\ x \\ \\frac{\\partial y}{\\partial b}  \\\\\n",
        "  &=& 1 \\times 7 + 2 \\times 1  \\\\\n",
        "  &=& 9 \\end{matrix} $\n",
        "  \n",
        "\n",
        "  \n",
        "  "
      ]
    },
    {
      "cell_type": "markdown",
      "metadata": {
        "id": "2PgmdJN0Qtdw"
      },
      "source": [
        "### 덧셈, 곱셈 계층의 역전파\n",
        "- 위 예제를 통해 아래 사항을 알 수 있음\n",
        "\n",
        "  #### 1. $\\quad z = x + y$ 일 때,\n",
        "  ## $\\frac{\\partial z}{\\partial x} = 1, \\frac{\\partial z}{\\partial y} = 1 $\n",
        "\n",
        "  #### 2. $\\quad t = xy$ 일 때,\n",
        "  ## $\\frac{\\partial t}{\\partial x} = y, \\frac{\\partial t}{\\partial y} = x$\n"
      ]
    },
    {
      "cell_type": "code",
      "metadata": {
        "id": "hShSxvW5WMqi"
      },
      "source": [
        "class Multiplier() :\n",
        "\n",
        "    def __init__(self) :\n",
        "      self.x = None\n",
        "      self.y = None\n",
        "\n",
        "    def forward(self, x, y) :\n",
        "      self.x = x\n",
        "      self.y = y\n",
        "      return x * y\n",
        "\n",
        "    def backward(self, dresult) :\n",
        "      dx = dresult * self.y\n",
        "      dy = dresult * self.x\n",
        "      return dx, dy"
      ],
      "execution_count": 3,
      "outputs": []
    },
    {
      "cell_type": "code",
      "metadata": {
        "id": "1bovOx6UQvLP"
      },
      "source": [
        "class Add() :\n",
        "  def __init__(self) :\n",
        "    self.x = None\n",
        "    self.y = None\n",
        "\n",
        "  def forward(self, x, y):\n",
        "    self.x = x\n",
        "    self.y = y\n",
        "    return x + y\n",
        "\n",
        "  def backward(self, dresult) :\n",
        "    dx = dresult  * 1\n",
        "    dy = dresult  * 1\n",
        "    return dx, dy"
      ],
      "execution_count": 2,
      "outputs": []
    },
    {
      "cell_type": "code",
      "metadata": {
        "id": "e3RawqlUQwp0"
      },
      "source": [
        "a, b, c = -1, 3, 4\n",
        "x = Add()\n",
        "y = Add()\n",
        "f = Multiplier()"
      ],
      "execution_count": 6,
      "outputs": []
    },
    {
      "cell_type": "code",
      "metadata": {
        "id": "soyk-HWiSnwh",
        "colab": {
          "base_uri": "https://localhost:8080/"
        },
        "outputId": "7664f062-dbbe-4ecf-944f-60ef1f803cfc"
      },
      "source": [
        "x_result = x.forward(a, b)\n",
        "y_result = y.forward(b, c)\n",
        "\n",
        "print(x_result)\n",
        "print(y_result)\n",
        "print(f.forward(x_result, y_result))"
      ],
      "execution_count": 7,
      "outputs": [
        {
          "output_type": "stream",
          "text": [
            "2\n",
            "7\n",
            "14\n"
          ],
          "name": "stdout"
        }
      ]
    },
    {
      "cell_type": "code",
      "metadata": {
        "id": "FhPPrFIqSpq1",
        "colab": {
          "base_uri": "https://localhost:8080/"
        },
        "outputId": "259a4eff-cee4-4aa8-9a51-54ec6cf1a513"
      },
      "source": [
        "dresult = 1\n",
        "dx_mul, dy_mul = f.backward(dresult)\n",
        "\n",
        "da_add, db_add_1 = x.backward(dx_mul)\n",
        "db_add_2, dc_add = y.backward(dy_mul)\n",
        "\n",
        "print(dx_mul, dy_mul)\n",
        "print(da_add)\n",
        "print(db_add_1 + db_add_2)\n",
        "print(dc_add)"
      ],
      "execution_count": 9,
      "outputs": [
        {
          "output_type": "stream",
          "text": [
            "7 2\n",
            "7\n",
            "9\n",
            "2\n"
          ],
          "name": "stdout"
        }
      ]
    },
    {
      "cell_type": "markdown",
      "metadata": {
        "id": "dMfl0J1uWgiY"
      },
      "source": [
        "![](https://miro.medium.com/max/2000/1*U3mVDYuvnaLhJzIFw_d5qQ.png)\n",
        "<sub>출처: https://medium.com/spidernitt/breaking-down-neural-networks-an-intuitive-approach-to-backpropagation-3b2ff958794c</sub>"
      ]
    },
    {
      "cell_type": "markdown",
      "metadata": {
        "id": "byODNRUF5fbv"
      },
      "source": [
        "### 활성화 함수(Activation)에서의 역전파"
      ]
    },
    {
      "cell_type": "markdown",
      "metadata": {
        "id": "OkRurUgm5hqn"
      },
      "source": [
        "#### 시그모이드(Sigmoid) 함수\n",
        "\n",
        "![](https://media.geeksforgeeks.org/wp-content/uploads/20190911181329/Screenshot-2019-09-11-18.05.46.png)\n",
        "\n",
        "<sub>출처: https://www.geeksforgeeks.org/implement-sigmoid-function-using-numpy/</sub>\n",
        "\n",
        "- 수식 \n",
        "  # $\\quad y = \\frac{1}{1 + e^{-x}} $일 때,\n",
        "\n",
        "  ## $\\quad \\begin{matrix}y' &=& (\\frac{1}{1 + e^{-x}})' \\\\\n",
        "  &=& \\frac{-1}{(1 + e^{-x})^2}\\ \\times \\ (-e^{-x}) \\\\\n",
        "  &=& \\frac{1}{1 + e^{-x}} \\ \\times \\ \\frac{e^{-x}}{1 + e^{-x}} \\\\\n",
        "  &=& \\frac{1}{1 + e^{-x}} \\ \\times \\ (1 - \\frac{1}{1 + e^{-x}}) \\\\\n",
        "  &=& y\\ (1\\ - \\ y)\n",
        "  \\end{matrix}$"
      ]
    },
    {
      "cell_type": "code",
      "metadata": {
        "id": "Sc1aymM-JnsE"
      },
      "source": [
        "class Sigmoid() : \n",
        "  def __init__(self) :\n",
        "    self.out = None\n",
        "\n",
        "  def forward(self, x) :\n",
        "    out = 1/ (1 + np.exp(-x))\n",
        "    return out\n",
        "  \n",
        "  def backward(self, dout) :\n",
        "    dx = dout *(1.0 - self.out) * self.dout\n",
        "    return dx"
      ],
      "execution_count": 10,
      "outputs": []
    },
    {
      "cell_type": "markdown",
      "metadata": {
        "id": "QWZ247xo5mtv"
      },
      "source": [
        "#### ReLU 함수\n",
        "\n",
        "![](https://3qeqpr26caki16dnhd19sv6by6v-wpengine.netdna-ssl.com/wp-content/uploads/2018/10/Line-Plot-of-Rectified-Linear-Activation-for-Negative-and-Positive-Inputs.png)\n",
        "\n",
        "<sub>출처: https://machinelearningmastery.com/rectified-linear-activation-function-for-deep-learning-neural-networks/</sub>\n",
        "\n",
        "\n",
        "- 수식  \n",
        "\n",
        "  ### $\\qquad y=\n",
        "  \\begin{cases}\n",
        "  x & (x \\ge 0)  \\\\\n",
        "  0 & (x < 0)\n",
        "  \\end{cases}$ 일 때,\n",
        "\n",
        "  <br>\n",
        "\n",
        "  ### $\\qquad \\frac{\\partial y}{\\partial x}=\n",
        "  \\begin{cases}\n",
        "  1 & (x \\ge 0)  \\\\\n",
        "  0 & (x < 0)\n",
        "  \\end{cases}$"
      ]
    },
    {
      "cell_type": "code",
      "metadata": {
        "id": "hHcPmAzh5nOZ"
      },
      "source": [
        "class ReLU() :\n",
        "  def __init__(self) :\n",
        "    self.out = None\n",
        "\n",
        "  def forward(self, x) :\n",
        "    self.mask = (x < 0)  # 마스킹 => 원하는 조건을 달아서 조건에 맞는 배열요소들만 걸러내는 작업이다.\n",
        "    out = x.copy()\n",
        "    out[self.mask] = 0\n",
        "    return out\n",
        "\n",
        "  def backward(self, dout) :\n",
        "    dout[self.mask] = 0 # self.mask 을 만족하면 0\n",
        "    dx = dout\n",
        "    return dx"
      ],
      "execution_count": 12,
      "outputs": []
    },
    {
      "cell_type": "markdown",
      "metadata": {
        "id": "MH_kQzedJFfw"
      },
      "source": [
        "### 행렬 연산에 대한 역전파\n",
        "\n",
        "# $\\qquad Y = X \\bullet W + B$"
      ]
    },
    {
      "cell_type": "markdown",
      "metadata": {
        "id": "W-SedVrpJILw"
      },
      "source": [
        "#### 순전파(forward)\n",
        "  \n",
        "  - 형상(shape)을 맞춰줘야함\n",
        "  - 앞서 봤던 곱셈, 덧셈 계층을 합친 형태"
      ]
    },
    {
      "cell_type": "code",
      "metadata": {
        "id": "QKIO7EzSJGD1",
        "colab": {
          "base_uri": "https://localhost:8080/"
        },
        "outputId": "ccd0aba5-cc82-4119-df18-ea45209da914"
      },
      "source": [
        "import numpy as np\n",
        "\n",
        "X = np.random.rand(3)\n",
        "W = np.random.rand(3, 2)\n",
        "B = np.random.rand(2)\n",
        "\n",
        "print(X.shape)\n",
        "print(W.shape)\n",
        "print(B.shape)"
      ],
      "execution_count": 16,
      "outputs": [
        {
          "output_type": "stream",
          "text": [
            "(3,)\n",
            "(3, 2)\n",
            "(2,)\n"
          ],
          "name": "stdout"
        }
      ]
    },
    {
      "cell_type": "code",
      "metadata": {
        "id": "Tqvl76fFJNfU",
        "colab": {
          "base_uri": "https://localhost:8080/"
        },
        "outputId": "221b031f-ece3-47db-9a0f-c463473c53c2"
      },
      "source": [
        "Y = np.dot(X, W) + B\n",
        "print(Y.shape)"
      ],
      "execution_count": 17,
      "outputs": [
        {
          "output_type": "stream",
          "text": [
            "(2,)\n"
          ],
          "name": "stdout"
        }
      ]
    },
    {
      "cell_type": "code",
      "metadata": {
        "id": "vTjJIvg9JPMV",
        "colab": {
          "base_uri": "https://localhost:8080/"
        },
        "outputId": "6e8b5aba-6b4b-4b0a-dd10-b874efba7547"
      },
      "source": [
        " import numpy as np\n",
        "\n",
        "X = np.random.rand(3)\n",
        "W = np.random.rand(2, 2)\n",
        "B = np.random.rand(2)\n",
        "\n",
        "print(X.shape)\n",
        "print(W.shape)\n",
        "print(B.shape)"
      ],
      "execution_count": 18,
      "outputs": [
        {
          "output_type": "stream",
          "text": [
            "(3,)\n",
            "(2, 2)\n",
            "(2,)\n"
          ],
          "name": "stdout"
        }
      ]
    },
    {
      "cell_type": "code",
      "metadata": {
        "id": "QnB0hE6YJQuD",
        "colab": {
          "base_uri": "https://localhost:8080/",
          "height": 228
        },
        "outputId": "9d3e820d-b78b-4ebd-b03f-0e2385b663c5"
      },
      "source": [
        "Y = np.dot(X, W) + B\n",
        "print(Y.shape)"
      ],
      "execution_count": 19,
      "outputs": [
        {
          "output_type": "error",
          "ename": "ValueError",
          "evalue": "ignored",
          "traceback": [
            "\u001b[0;31m---------------------------------------------------------------------------\u001b[0m",
            "\u001b[0;31mValueError\u001b[0m                                Traceback (most recent call last)",
            "\u001b[0;32m<ipython-input-19-d3f622c411a6>\u001b[0m in \u001b[0;36m<module>\u001b[0;34m()\u001b[0m\n\u001b[0;32m----> 1\u001b[0;31m \u001b[0mY\u001b[0m \u001b[0;34m=\u001b[0m \u001b[0mnp\u001b[0m\u001b[0;34m.\u001b[0m\u001b[0mdot\u001b[0m\u001b[0;34m(\u001b[0m\u001b[0mX\u001b[0m\u001b[0;34m,\u001b[0m \u001b[0mW\u001b[0m\u001b[0;34m)\u001b[0m \u001b[0;34m+\u001b[0m \u001b[0mB\u001b[0m\u001b[0;34m\u001b[0m\u001b[0;34m\u001b[0m\u001b[0m\n\u001b[0m\u001b[1;32m      2\u001b[0m \u001b[0mprint\u001b[0m\u001b[0;34m(\u001b[0m\u001b[0mY\u001b[0m\u001b[0;34m.\u001b[0m\u001b[0mshape\u001b[0m\u001b[0;34m)\u001b[0m\u001b[0;34m\u001b[0m\u001b[0;34m\u001b[0m\u001b[0m\n",
            "\u001b[0;32m<__array_function__ internals>\u001b[0m in \u001b[0;36mdot\u001b[0;34m(*args, **kwargs)\u001b[0m\n",
            "\u001b[0;31mValueError\u001b[0m: shapes (3,) and (2,2) not aligned: 3 (dim 0) != 2 (dim 0)"
          ]
        }
      ]
    },
    {
      "cell_type": "markdown",
      "metadata": {
        "id": "04GHZHAiJUGl"
      },
      "source": [
        "#### 역전파(1)\n",
        "\n",
        "##  $\\  Y = X \\bullet W$\n",
        "- $X :\\ \\ (2,\\ )$\n",
        "\n",
        "- $W :\\ \\ (2,\\ 3)$\n",
        "\n",
        "- $X \\bullet W :\\ \\ (3,\\ )$\n",
        "\n",
        "- $\\frac{\\partial L}{\\partial Y} :\\ \\ (3,\\ )$\n",
        "\n",
        "- $\\frac{\\partial L}{\\partial X} = \\frac{\\partial L}{\\partial Y}\\bullet W^T ,\\ (2,\\ )$\n",
        "\n",
        "- $\\frac{\\partial L}{\\partial W} = X^T \\bullet \\frac{\\partial L}{\\partial Y} ,\\ (2,\\ 3)$\n",
        "\n"
      ]
    },
    {
      "cell_type": "code",
      "metadata": {
        "id": "DCruMHCGJSHK",
        "colab": {
          "base_uri": "https://localhost:8080/"
        },
        "outputId": "a4026e4a-fd9f-42ac-c59d-08a827204b9a"
      },
      "source": [
        "X = np.random.randn(2)\n",
        "W = np.random.randn(2, 3)\n",
        "Y = np.dot(X, W)\n",
        "\n",
        "print(\"X\\n{}\".format(X))\n",
        "print(\"W\\n{}\".format(W))\n",
        "print(\"Y\\n{}\".format(Y))"
      ],
      "execution_count": 20,
      "outputs": [
        {
          "output_type": "stream",
          "text": [
            "X\n",
            "[0.90012517 1.09898738]\n",
            "W\n",
            "[[-0.35946787 -1.42343539  0.42920005]\n",
            " [ 0.72586417 -2.12800763 -0.22252457]]\n",
            "Y\n",
            "[ 0.47414948 -3.61992354  0.14178207]\n"
          ],
          "name": "stdout"
        }
      ]
    },
    {
      "cell_type": "code",
      "metadata": {
        "id": "TEvyFXedJWC7",
        "colab": {
          "base_uri": "https://localhost:8080/"
        },
        "outputId": "ddeb5d15-fb7d-47af-d875-71cd9435bf85"
      },
      "source": [
        "dLdY = np.random.randn(3)\n",
        "dLdX = np.dot(dLdY, W.T)\n",
        "dLdW = np.dot(X.reshape(-1, 1), dLdY.reshape(1, -1)) # X.reshape 되면서 행은 크기에 맞고 열은 1,\n",
        "\n",
        "print(\"dLdY\\n{}\".format(dLdY))\n",
        "print(\"dLdX\\n{}\".format(dLdX))\n",
        "print(\"dLdW\\n{}\".format(dLdW))"
      ],
      "execution_count": 27,
      "outputs": [
        {
          "output_type": "stream",
          "text": [
            "dLdY\n",
            "[-0.53329434 -1.21615503 -0.62567619]\n",
            "dLdX\n",
            "[1.65428003 2.34011625]\n",
            "dLdW\n",
            "[[-0.48003166 -1.09469175 -0.56318689]\n",
            " [-0.58608375 -1.33653902 -0.68761023]]\n"
          ],
          "name": "stdout"
        }
      ]
    },
    {
      "cell_type": "markdown",
      "metadata": {
        "id": "uuOVqySWJauS"
      },
      "source": [
        "#### 역전파(2)\n",
        "\n",
        "## $\\ (2)\\  Y = X \\bullet W + B$\n",
        "- $X, W$는 위와 동일\n",
        "\n",
        "- $B: \\ (3, )$\n",
        "\n",
        "- $\\frac{\\partial L}{\\partial B} = \\frac{\\partial L}{\\partial Y}, \\ (3,\\ )$"
      ]
    },
    {
      "cell_type": "code",
      "metadata": {
        "id": "D_Jb9sY8JYGB",
        "colab": {
          "base_uri": "https://localhost:8080/"
        },
        "outputId": "c34a1061-6c3b-42b4-9739-b9d04bb43765"
      },
      "source": [
        "X = np.random.randn(2)\n",
        "W = np.random.randn(2, 3)\n",
        "B = np.random.randn(3)\n",
        "Y = np.dot(X, W)  + B\n",
        "print(Y)"
      ],
      "execution_count": 28,
      "outputs": [
        {
          "output_type": "stream",
          "text": [
            "[0.75811004 0.34721964 3.94263182]\n"
          ],
          "name": "stdout"
        }
      ]
    },
    {
      "cell_type": "code",
      "metadata": {
        "id": "frdvKz8oJcoZ",
        "colab": {
          "base_uri": "https://localhost:8080/"
        },
        "outputId": "90204469-99ae-4e41-84fd-fac2a5426896"
      },
      "source": [
        "dL_dY = np.random.randn(3)\n",
        "dL_dX = np.dot(dL_dY, W.T)\n",
        "dL_dW =  np.dot(X.reshape(-1, 1), dL_dY.reshape(1, -1))\n",
        "dL_dB = dL_dY\n",
        "\n",
        "print(\"dLdY\\n{}\".format(dL_dY))\n",
        "print(\"dLdX\\n{}\".format(dL_dX))\n",
        "print(\"dLdW\\n{}\".format(dL_dW))\n",
        "print(\"dLdB\\n{}\".format(dL_dB))"
      ],
      "execution_count": 31,
      "outputs": [
        {
          "output_type": "stream",
          "text": [
            "dLdY\n",
            "[ 1.12428458  0.79825197 -0.01039116]\n",
            "dLdX\n",
            "[-1.04799846 -0.03489981]\n",
            "dLdW\n",
            "[[-0.56883554 -0.40387825  0.00525744]\n",
            " [-0.96919574 -0.68813753  0.00895776]]\n",
            "dLdB\n",
            "[ 1.12428458  0.79825197 -0.01039116]\n"
          ],
          "name": "stdout"
        }
      ]
    },
    {
      "cell_type": "markdown",
      "metadata": {
        "id": "0FrBSUsRJgFl"
      },
      "source": [
        "#### 배치용 행렬 내적 계층\n",
        "- N개의 데이터에 대해,  \n",
        "# $\\qquad Y = X \\bullet W + B$\n",
        "\n",
        "  - $X : \\quad  (N,\\ 3)$\n",
        "\n",
        "  - $W : \\quad  (3,\\ 2)$\n",
        "\n",
        "  - $B : \\quad  (2,\\ )$\n",
        "  "
      ]
    },
    {
      "cell_type": "code",
      "metadata": {
        "id": "AoWx5fDnJd-2",
        "colab": {
          "base_uri": "https://localhost:8080/"
        },
        "outputId": "6fac6d6f-4c95-45fc-9232-62d973544f3e"
      },
      "source": [
        "n = 4\n",
        "X = np.random.rand(n, 3)\n",
        "W = np.random.rand(3, 2)\n",
        "B = np.random.rand(2)\n",
        "\n",
        "print(X.shape)\n",
        "print(W.shape)\n",
        "print(B.shape)"
      ],
      "execution_count": 32,
      "outputs": [
        {
          "output_type": "stream",
          "text": [
            "(4, 3)\n",
            "(3, 2)\n",
            "(2,)\n"
          ],
          "name": "stdout"
        }
      ]
    },
    {
      "cell_type": "code",
      "metadata": {
        "id": "EqhSX54BJmPQ",
        "colab": {
          "base_uri": "https://localhost:8080/"
        },
        "outputId": "c8c47d4d-e8ce-4a73-8e5d-301274bdbb02"
      },
      "source": [
        "print(\"X\\n{}\".format(X))\n",
        "print(\"W\\n{}\".format(W))\n",
        "print(\"B\\n{}\".format(B))"
      ],
      "execution_count": 35,
      "outputs": [
        {
          "output_type": "stream",
          "text": [
            "X\n",
            "[[0.53028963 0.26106887 0.939243  ]\n",
            " [0.42388472 0.64106981 0.07422332]\n",
            " [0.78101992 0.13428342 0.2519812 ]\n",
            " [0.32384291 0.40973889 0.86567119]]\n",
            "W\n",
            "[[0.92438905 0.90250284]\n",
            " [0.95055558 0.09494293]\n",
            " [0.13838996 0.18310956]]\n",
            "B\n",
            "[0.51171653 0.76826965]\n"
          ],
          "name": "stdout"
        }
      ]
    },
    {
      "cell_type": "code",
      "metadata": {
        "id": "_1IOOfhuJqF-",
        "colab": {
          "base_uri": "https://localhost:8080/"
        },
        "outputId": "c554166f-822d-4713-abb3-432284b77875"
      },
      "source": [
        "Y = np.dot(X, W) + B # 순전파\n",
        "print(\"Y\\n{}\".format(Y))\n",
        "print(Y.shape)"
      ],
      "execution_count": 36,
      "outputs": [
        {
          "output_type": "stream",
          "text": [
            "Y\n",
            "[[1.38005273 1.44362857]\n",
            " [1.52319517 1.22528286]\n",
            " [1.39619832 1.53203178]\n",
            " [1.32035317 1.25795328]]\n",
            "(4, 2)\n"
          ],
          "name": "stdout"
        }
      ]
    },
    {
      "cell_type": "code",
      "metadata": {
        "id": "TOKsN2NHJrqT",
        "colab": {
          "base_uri": "https://localhost:8080/"
        },
        "outputId": "72dd416a-cdc9-4a64-8247-8fd5a964ee4b"
      },
      "source": [
        "dl_dY = np.random.randn(4, 2)  # 원래라면 학습 결과 값\n",
        "dl_dX = np.dot(dl_dY, W.T)   \n",
        "dl_dW = np.dot(X.T, dl_dY)\n",
        "dl_dB = np.sum(dl_dY, axis = 0)\n",
        "\n",
        "print(\"dLdY\\n{}\".format(dl_dY))\n",
        "print(\"dLdX\\n{}\".format(dl_dX))\n",
        "print(\"dLdW\\n{}\".format(dL_dW))\n",
        "print(\"dLdB\\n{}\".format(dl_dB))"
      ],
      "execution_count": 39,
      "outputs": [
        {
          "output_type": "stream",
          "text": [
            "dLdY\n",
            "[[ 0.30943606  0.33098597]\n",
            " [ 0.34545712  0.17314753]\n",
            " [ 1.00822067  0.80024215]\n",
            " [ 1.25848455 -0.09327954]]\n",
            "dLdX\n",
            "[[0.58475509 0.32556095 0.10342954]\n",
            " [0.47560292 0.34481532 0.07951276]\n",
            " [1.65420896 1.03434712 0.2860596 ]\n",
            " [1.07914429 1.18740328 0.15708125]]\n",
            "dLdW\n",
            "[[-0.56883554 -0.40387825  0.00525744]\n",
            " [-0.96919574 -0.68813753  0.00895776]]\n",
            "dLdB\n",
            "[2.9215984  1.21109611]\n"
          ],
          "name": "stdout"
        }
      ]
    },
    {
      "cell_type": "markdown",
      "metadata": {
        "id": "Bz-0zFPpJ3Jz"
      },
      "source": [
        "### MNIST 분류 with 역전파\n"
      ]
    },
    {
      "cell_type": "markdown",
      "metadata": {
        "id": "eW3InPxBJ6qo"
      },
      "source": [
        "#### Modules Import"
      ]
    },
    {
      "cell_type": "code",
      "metadata": {
        "id": "ZKtAhkm4J2Z3"
      },
      "source": [
        "import tensorflow as tf\n",
        "import numpy as np\n",
        "import matplotlib.pyplot as plt\n",
        "\n",
        "from collections import OrderedDict"
      ],
      "execution_count": 40,
      "outputs": []
    },
    {
      "cell_type": "markdown",
      "metadata": {
        "id": "F1_2_jGMKGiT"
      },
      "source": [
        "#### 데이터 로드"
      ]
    },
    {
      "cell_type": "code",
      "metadata": {
        "id": "S3SQq80sJ8mR",
        "colab": {
          "base_uri": "https://localhost:8080/"
        },
        "outputId": "c1a9e4fb-a85c-48a8-8ea8-1f6591841942"
      },
      "source": [
        "np.random.seed(12394)\n",
        "mnist = tf.keras.datasets.mnist\n",
        "\n",
        "(x_train, y_train), (x_test, y_test) = mnist.load_data()\n",
        "\n",
        "num_classes = 10"
      ],
      "execution_count": 41,
      "outputs": [
        {
          "output_type": "stream",
          "text": [
            "Downloading data from https://storage.googleapis.com/tensorflow/tf-keras-datasets/mnist.npz\n",
            "11493376/11490434 [==============================] - 0s 0us/step\n"
          ],
          "name": "stdout"
        }
      ]
    },
    {
      "cell_type": "markdown",
      "metadata": {
        "id": "mv_pjKdxKKIy"
      },
      "source": [
        "#### 데이터 전처리"
      ]
    },
    {
      "cell_type": "code",
      "metadata": {
        "id": "B95lI86tKIyY"
      },
      "source": [
        "x_train, x_test = x_train.reshape(-1, 28 * 28).astype(np.float32), x_test.reshape(-1, 28 * 28).astype(np.float32)\n",
        "\n",
        "# scaling\n",
        "x_train /= .255\n",
        "x_test /= .255\n",
        "\n",
        "y_train = np.eye(num_classes)[y_train]  # np.eye단위 벡터화 단 k 변수를 통해 단위벡터가 시작점을 선택가능함,  -> 여기서는 단위행렬의 1부분이 y_train으로 들어간다.\n"
      ],
      "execution_count": 43,
      "outputs": []
    },
    {
      "cell_type": "code",
      "metadata": {
        "id": "ar7DZIlMKLjJ",
        "colab": {
          "base_uri": "https://localhost:8080/"
        },
        "outputId": "9d501cfa-b027-4d12-da37-a99b89cff08f"
      },
      "source": [
        "print(x_train.shape)\n",
        "print(y_train.shape)\n",
        "print(x_test.shape)\n",
        "print(y_test.shape)"
      ],
      "execution_count": 46,
      "outputs": [
        {
          "output_type": "stream",
          "text": [
            "(60000, 784)\n",
            "(60000, 10)\n",
            "(10000, 784)\n",
            "(10000,)\n"
          ],
          "name": "stdout"
        }
      ]
    },
    {
      "cell_type": "markdown",
      "metadata": {
        "id": "Oye4pC82KPbg"
      },
      "source": [
        "#### Hyper Parameters"
      ]
    },
    {
      "cell_type": "code",
      "metadata": {
        "id": "rFeXORJjKM7s"
      },
      "source": [
        "epochs = 1000\n",
        "learning_rate = 1e-3\n",
        "batch_size = 100\n",
        "train_size = x_train.shape[0]"
      ],
      "execution_count": 47,
      "outputs": []
    },
    {
      "cell_type": "markdown",
      "metadata": {
        "id": "cIdzuyRDKSm0"
      },
      "source": [
        "#### Util Functions"
      ]
    },
    {
      "cell_type": "code",
      "metadata": {
        "id": "8E2_fN1dKRzv"
      },
      "source": [
        "def softmax(x) :\n",
        "  if x.ndim == 2 :\n",
        "    x = x.T\n",
        "    x = x - np.max(x, axis=0)\n",
        "    y = np.exp(x) / np.sum(np.exp(x), axis=0)\n",
        "    return y.T\n",
        "  x = x - np.max(x)\n",
        "  return np.exp(x) / np.sum(np.exp(x))\n",
        "\n",
        "def mean_squared_error(pred_y, true_y) :\n",
        "    return 0.5 * np.sum((pred_y - true_y) ** 2)\n",
        "\n",
        "def cross_entropy_error(pred_y, true_y) :\n",
        "    if pred_y.ndim == 1 :\n",
        "      true_y = true_y.reshape(1, true_y.size)\n",
        "      pred_y = pred_y.reshape(1, pred_y.size)\n",
        "\n",
        "    if true_y.size == pred_y.size :\n",
        "      true_y = true_y.argmax(axis=1)   # 즉, true_y를 최소/최대로 만드는 정의역의 점들\n",
        "\n",
        "    batch_size = pred_y.shape[0]\n",
        "    return -np.sum(np.log(pred_y[np.arange(batch_size), true_y] + 1e-7)) / batch_size\n",
        "\n",
        "def softmax_loss(X, true_y) :\n",
        "    pred_y = softmax(X)\n",
        "    return cross_entropy_error(pred_y, true_y)"
      ],
      "execution_count": 80,
      "outputs": []
    },
    {
      "cell_type": "markdown",
      "metadata": {
        "id": "SBvWUNh-KY2R"
      },
      "source": [
        "#### Util Classes"
      ]
    },
    {
      "cell_type": "markdown",
      "metadata": {
        "id": "rc0sLXWJs8Dq"
      },
      "source": [
        "##### ReLU"
      ]
    },
    {
      "cell_type": "code",
      "metadata": {
        "id": "ej2m6Robs-uJ"
      },
      "source": [
        "class ReLU() :\n",
        "  def __init__ (self) :\n",
        "    self.out = None\n",
        "\n",
        "  def forward(self, x) :\n",
        "    self.mask = (x < 0)\n",
        "    out = x.copy()\n",
        "    out[x < 0] = 0\n",
        "    return out\n",
        "\n",
        "  def backward(self, dout) :\n",
        "    dout[self.mask] = 0\n",
        "    dx = dout\n",
        "    return dx"
      ],
      "execution_count": 54,
      "outputs": []
    },
    {
      "cell_type": "markdown",
      "metadata": {
        "id": "RucLfG0EtYcf"
      },
      "source": [
        "##### Sigmoid"
      ]
    },
    {
      "cell_type": "code",
      "metadata": {
        "id": "TWoPmtpNtZ__"
      },
      "source": [
        "class Sigmoid() :\n",
        "  def __init__(self) :\n",
        "    self.out = None\n",
        "\n",
        "  def forward(self, x) :\n",
        "    out = 1 / (1 + np.exp(-x))\n",
        "    return out\n",
        "\n",
        "  def backward(self, dout) :\n",
        "    dx = dout * (1.0 - self.out) * self.out\n",
        "    return dx"
      ],
      "execution_count": 89,
      "outputs": []
    },
    {
      "cell_type": "markdown",
      "metadata": {
        "id": "IZZeNtd-tuM5"
      },
      "source": [
        " ##### Layer"
      ]
    },
    {
      "cell_type": "code",
      "metadata": {
        "id": "NEcCZ4bFtzgq"
      },
      "source": [
        "class Layer () :\n",
        "  def __init__(self, w, b) :\n",
        "    self.W = w\n",
        "    self.B = b\n",
        "\n",
        "    self.x = None\n",
        "    self.origin_x_shape = None\n",
        "\n",
        "    self.dldw = None\n",
        "    self.dldb = None\n",
        "\n",
        "  def forward(self, x) :\n",
        "    self.origin_x_shape = x.shape\n",
        "\n",
        "    x= x.reshape(x.shape[0], -1)\n",
        "    self.x = x\n",
        "    out = np.dot(self.x, self.W) + self.B\n",
        "\n",
        "    return out\n",
        "\n",
        "  def backward(self, dout) :\n",
        "    dx = np.dot(dout, self.W.T)\n",
        "    self.dldw = np.dot(self.x.T, dout)\n",
        "    self.dldb = np.sum(dout, axis = 0)\n",
        "    dx = dx.reshape(*self.origin_x_shape)\n",
        "    return dx"
      ],
      "execution_count": 120,
      "outputs": []
    },
    {
      "cell_type": "markdown",
      "metadata": {
        "id": "s1Yqp7kVvOoD"
      },
      "source": [
        "#### Softmax"
      ]
    },
    {
      "cell_type": "code",
      "metadata": {
        "id": "0RXBVEMdvP9r"
      },
      "source": [
        "class Softmax() :\n",
        "  \n",
        "  def __init__(self) :\n",
        "    self.loss = None\n",
        "    self.y = None\n",
        "    self.t = None\n",
        "\n",
        "  def forward(self, x, t) :\n",
        "    self.t = t\n",
        "    self.y = softmax(x)\n",
        "    self.loss = cross_entropy_error(self.y, self.t)\n",
        "    return self.loss\n",
        "\n",
        "  def backward(self, dout=1) :\n",
        "    batch_size = self.t.shape[0]\n",
        "\n",
        "    if self.t.size == self.y.size :\n",
        "      dx = (self.y - self.t) / batch_size\n",
        "      \n",
        "    else :\n",
        "      dx = self.y.copy()\n",
        "      dx[np.arange(batch_size), self.t] -= 1\n",
        "      dx = dx / batch_size\n",
        "    \n",
        "    return dx"
      ],
      "execution_count": 137,
      "outputs": []
    },
    {
      "cell_type": "code",
      "metadata": {
        "id": "sX4I-bKfuRaq"
      },
      "source": [
        "class Model() :\n",
        "  def __init__(self, input_size, hidden_size_list, output_size, activation='relu') :\n",
        "    self.input_size = input_size\n",
        "    self.output_size = output_size\n",
        "    self.hidden_size_list = hidden_size_list\n",
        "    self.hidden_layer_num = len(hidden_size_list)\n",
        "    self.params = {}\n",
        "\n",
        "    self.__init_weights(activation)\n",
        "    activation_layer = {'sigmoid': Sigmoid, 'relu' : ReLU }\n",
        "    self.layers = OrderedDict()\n",
        "\n",
        "    for idx in range(1, self.hidden_layer_num + 1) : \n",
        "      self.layers['Layer' + str(idx)] = Layer(self.params['W' + str(idx)], self.params['b' + str(idx)])\n",
        "      self.layers['Activation_Function' + str(idx)] = activation_layer[activation]()\n",
        "\n",
        "    idx = self.hidden_layer_num + 1\n",
        "    self.layers['Layer' + str(idx)] = Layer(self.params['W' + str(idx)], self.params['b' + str(idx)])\n",
        "\n",
        "    self.last_layer = Softmax()\n",
        "\n",
        "  def __init_weights(self, activation) :\n",
        "    weight_std = None\n",
        "    all_size_list = [self.input_size] + self.hidden_size_list + [self.output_size]\n",
        "    for idx in range(1, len(all_size_list)) :\n",
        "      if activation.lower() == \"relu\" :\n",
        "        weight_std = np.sqrt(2.0 / self.input_size)   # He Initialization  https://reniew.github.io/13/\n",
        "      elif activation.lower() == \"sigmoid\" :\n",
        "        weight_std = np.sqrt(1.0 / self.input_size)   # Xavier Initialization \n",
        "\n",
        "      self.params['W' + str(idx)] = weight_std * np.random.randn(all_size_list[idx - 1], all_size_list[idx])\n",
        "      self.params['b' + str(idx)] = np.random.randn(all_size_list[idx])\n",
        "\n",
        "  def predict(self, x) :\n",
        "    for layer in self.layers.values() :\n",
        "      x = layer.forward(x)\n",
        "\n",
        "    return x\n",
        "\n",
        "  def loss(self, x, true_y) :\n",
        "    pred_y = self.predict(x)\n",
        "    return self.last_layer.forward(pred_y, true_y)\n",
        "\n",
        "  def accuracy(self, x, true_y) :\n",
        "    pred_y  = self.predict(x)\n",
        "    pred_y = np.argmax(pred_y, axis=1)\n",
        "\n",
        "    if true_y.ndim != 1 :\n",
        "      true_y = np.argmax(true_y, axis=1)\n",
        "\n",
        "    accuracy = np.sum(pred_y == true_y) / float(x.shape[0])\n",
        "    return accuracy\n",
        "\n",
        "  def gradient(self, x, t) :\n",
        "    self.loss(x, t)\n",
        "\n",
        "    dout = 1\n",
        "    dout = self.last_layer.backward(dout)\n",
        "\n",
        "    layers = list(self.layers.values())\n",
        "    layers.reverse()\n",
        "    for layer in layers :\n",
        "      dout = layer.backward(dout)\n",
        "\n",
        "    grads = {}\n",
        "    for idx in range(1, self.hidden_layer_num + 2) :\n",
        "      grads['W' + str(idx)] = self.layers['Layer' + str(idx)].dldw\n",
        "      grads['b' + str(idx)] = self.layers['Layer' + str(idx)].dldb\n",
        "\n",
        "    return grads"
      ],
      "execution_count": 138,
      "outputs": []
    },
    {
      "cell_type": "markdown",
      "metadata": {
        "id": "LwyNo3TsyDZR"
      },
      "source": [
        "#### 모델 생성 및 학습"
      ]
    },
    {
      "cell_type": "code",
      "metadata": {
        "id": "Du5naLufxMvv"
      },
      "source": [
        "model = Model(28 * 28, [100, 64, 32], 10, activation='relu')"
      ],
      "execution_count": 139,
      "outputs": []
    },
    {
      "cell_type": "code",
      "metadata": {
        "id": "Rb0HhW9x0mrN"
      },
      "source": [
        "train_lost_list = []\n",
        "train_acc_list = []\n",
        "test_acc_list= []"
      ],
      "execution_count": 140,
      "outputs": []
    },
    {
      "cell_type": "code",
      "metadata": {
        "id": "VV5PciwAxM6s",
        "colab": {
          "base_uri": "https://localhost:8080/"
        },
        "outputId": "ef077040-5a88-4afc-a076-02c59630023b"
      },
      "source": [
        "for epoch in range(epochs) :\n",
        "  batch_mask = np.random.choice(train_size, batch_size)\n",
        "  x_batch = x_train[batch_mask]\n",
        "  y_batch = y_train[batch_mask]\n",
        "\n",
        "  grad = model.gradient(x_batch, y_batch)\n",
        "\n",
        "  for key in model.params.keys() :\n",
        "    model.params[key] -= learning_rate * grad[key]\n",
        "\n",
        "  loss = model.loss(x_batch, y_batch)\n",
        "  train_lost_list.append(loss)\n",
        "  \n",
        "  if epoch % 50 == 0 :\n",
        "    train_acc = model.accuracy(x_train, y_train)\n",
        "    test_acc = model.accuracy(x_test, y_test)\n",
        "    train_acc_list.append(train_acc)\n",
        "    test_acc_list.append(test_acc)\n",
        "\n",
        "    print(\"Epoch: {} Train Accuracy : {:.4f} Test Accuracy : {:.4f}\".format(epoch + 1, train_acc, test_acc))"
      ],
      "execution_count": 158,
      "outputs": [
        {
          "output_type": "stream",
          "text": [
            "Epoch: 1 Train Accuracy : 0.8360 Test Accuracy : 0.6999\n",
            "Epoch: 51 Train Accuracy : 0.8429 Test Accuracy : 0.6992\n",
            "Epoch: 101 Train Accuracy : 0.8414 Test Accuracy : 0.7137\n",
            "Epoch: 151 Train Accuracy : 0.8542 Test Accuracy : 0.7301\n",
            "Epoch: 201 Train Accuracy : 0.8558 Test Accuracy : 0.7465\n",
            "Epoch: 251 Train Accuracy : 0.8560 Test Accuracy : 0.7097\n",
            "Epoch: 301 Train Accuracy : 0.8647 Test Accuracy : 0.7296\n",
            "Epoch: 351 Train Accuracy : 0.8654 Test Accuracy : 0.6918\n",
            "Epoch: 401 Train Accuracy : 0.8700 Test Accuracy : 0.7217\n",
            "Epoch: 451 Train Accuracy : 0.8747 Test Accuracy : 0.7441\n",
            "Epoch: 501 Train Accuracy : 0.8782 Test Accuracy : 0.7351\n",
            "Epoch: 551 Train Accuracy : 0.8792 Test Accuracy : 0.7231\n",
            "Epoch: 601 Train Accuracy : 0.8852 Test Accuracy : 0.7726\n",
            "Epoch: 651 Train Accuracy : 0.8850 Test Accuracy : 0.7752\n",
            "Epoch: 701 Train Accuracy : 0.8860 Test Accuracy : 0.7614\n",
            "Epoch: 751 Train Accuracy : 0.8858 Test Accuracy : 0.7801\n",
            "Epoch: 801 Train Accuracy : 0.8843 Test Accuracy : 0.7640\n",
            "Epoch: 851 Train Accuracy : 0.8886 Test Accuracy : 0.7535\n",
            "Epoch: 901 Train Accuracy : 0.8896 Test Accuracy : 0.7924\n",
            "Epoch: 951 Train Accuracy : 0.8949 Test Accuracy : 0.7677\n"
          ],
          "name": "stdout"
        }
      ]
    },
    {
      "cell_type": "code",
      "metadata": {
        "id": "dqqlZOF6KjDl",
        "colab": {
          "base_uri": "https://localhost:8080/",
          "height": 295
        },
        "outputId": "5121fc14-8338-427c-f8d8-e397e65cba7f"
      },
      "source": [
        "plt.plot(np.arange(22), train_acc_list, 'r--', label='train_acc')\n",
        "plt.plot(np.arange(22), test_acc_list, 'b--', label='test_acc')\n",
        "\n",
        "plt.title('Result')\n",
        "plt.xlabel('Epochs')\n",
        "plt.legend(loc=5)\n",
        "plt.grid(5)\n",
        "plt.show()"
      ],
      "execution_count": 157,
      "outputs": [
        {
          "output_type": "display_data",
          "data": {
            "image/png": "[encoded data removed]",
            "text/plain": [
              "<Figure size 432x288 with 1 Axes>"
            ]
          },
          "metadata": {
            "tags": [],
            "needs_background": "light"
          }
        }
      ]
    },
    {
      "cell_type": "code",
      "metadata": {
        "id": "_BwHrt9nP8y8",
        "colab": {
          "base_uri": "https://localhost:8080/",
          "height": 295
        },
        "outputId": "1e1f4064-fee6-47ad-93ff-6b7b90aa29a9"
      },
      "source": [
        "plt.plot(np.arange(2002), train_lost_list, 'green', label='train_loss')\n",
        "plt.title('Train Loss')\n",
        "plt.xlabel('Epochs')\n",
        "plt.legend(loc=5)\n",
        "plt.grid()\n",
        "plt.show()"
      ],
      "execution_count": 160,
      "outputs": [
        {
          "output_type": "display_data",
          "data": {
            "image/png": "[encoded data removed]",
            "text/plain": [
              "<Figure size 432x288 with 1 Axes>"
            ]
          },
          "metadata": {
            "tags": [],
            "needs_background": "light"
          }
        }
      ]
    }
  ]
}